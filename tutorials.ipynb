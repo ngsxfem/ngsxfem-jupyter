{
 "cells": [
  {
   "cell_type": "markdown",
   "metadata": {
    "slideshow": {
     "slide_type": "slide"
    }
   },
   "source": [
    "Interactive Tutorials for `ngsxfem`\n",
    "====\n",
    "\n",
    "This material provides an introduction to the `ngsxfem` library for `NGSolve`. It divides into two parts: \n",
    "In the first part (units 1-4) we introduce and explain the basic components that come with `ngsxfem` while in the second part (units 5-6) we apply these on a few additional advanced unfitted discretizations."
   ]
  },
  {
   "cell_type": "markdown",
   "metadata": {},
   "source": [
    "This material was created by \n",
    "* Fabian Heimann, Christoph Lehrenfeld, Yimin Lou, Janosch Preuss (Univ. Göttingen), [units 1 to 3]\n",
    "* Henry von Wahl (OvGU Magdeburg), [unit 4].\n",
    "* Thomas Jankuhn and Thomas Ludescher (RWTH Aachen University), [units 5-6] and\n",
    "* Guosheng Fu (University of Notre Dame) [unit 7]\n",
    "\n",
    "Most of the material originated from one of the NGSolve's user meetings in June 2018 and July 2019 and has been updated afterwards, especially in April 2020 and March 2021."
   ]
  },
  {
   "cell_type": "markdown",
   "metadata": {},
   "source": [
    "## Introduction of `ngsxfem` core features:\n"
   ]
  },
  {
   "cell_type": "markdown",
   "metadata": {},
   "source": [
    "### 1. Basic functionality\n",
    "* 1a: [basics.ipynb](basics.ipynb) on helper functions (cut position / active mesh). \n",
    "\n",
    "  This unit introduces the following `ngsxfem` components:\n",
    "    * Level set geometries (piecewise linear - P1)\n",
    "    * Visualization of discontinuous fields\n",
    "    * How to mark active elements in level set geometries\n",
    "    * How to mark active facets\n",
    "    * How to restrict `FESpace`s and `BilinearForm`s\n",
    "* 1b: [intlset.ipynb](intlset.ipynb) on higher order accurate integration on level set domains\n",
    "\n",
    "  This unit introduces the following `ngsxfem` components:\n",
    "    * Cut differential symbols for integration on level set domains\n",
    "    * Isoparametric mapping for higher oder accuracy\n"
   ]
  },
  {
   "cell_type": "markdown",
   "metadata": {},
   "source": [
    "### 2. Stationary PDEs\n",
    "* 2: [cutfem.ipynb](cutfem.ipynb) on unfitted FEM discretizations\n",
    "  \n",
    "  This unit introduces/applies the following `ngsxfem` components:\n",
    "    * Cut differential symbols for bilinear and linear form integrators\n",
    "    * Application of isoparametric mapping\n",
    "    * eXtended Finite element spaces  "
   ]
  },
  {
   "cell_type": "markdown",
   "metadata": {},
   "source": [
    "### 3. Moving domain problems\n",
    "* 3a: [spacetime_fitted.ipynb](spacetime_fitted.ipynb) on space-time discretization of the heat equation \n",
    "\n",
    "  This unit introduces the following `ngsxfem` components:\n",
    "    * space-time integration (differential symbols)\n",
    "    * space-time finite elements\n",
    "\n",
    "* 3b: [spacetime_unfitted.ipynb](spacetime_unfitted.ipynb) on unfitted space-time discretizations of a moving domain problem\n",
    "\n",
    "  This unit introduces the following `ngsxfem` components:\n",
    "    * space-time level set geometry approximations\n",
    "    * space-time isoparametric mapping\n",
    "    * space-time ghost penalty stabilization"
   ]
  },
  {
   "cell_type": "markdown",
   "metadata": {
    "collapsed": true,
    "slideshow": {
     "slide_type": "subslide"
    }
   },
   "source": [
    "### 4. Multiple level sets\n",
    "* 4a: [mlset_basic.ipynb](mlset_basic.ipynb) explains the basic functionality for domains defined via multiple level set functions\n",
    "\n",
    "  This unit introduces the following `ngsxfem` components:\n",
    "    * geometry definition and handling via multiple level set functions\n",
    "    * integration on geometries defined by multiple level set functions\n",
    "* 4b: [mlset_pde.ipynb](mlset_pde.ipynb) solving an unfitted Poisson problem on a domain defined by multiple level sets\n",
    "\n",
    "  This unit applies the `ngsxfem` components introduced in 4a.\n"
   ]
  },
  {
   "cell_type": "markdown",
   "metadata": {},
   "source": [
    "---"
   ]
  },
  {
   "cell_type": "markdown",
   "metadata": {
    "slideshow": {
     "slide_type": "subslide"
    }
   },
   "source": [
    "## Application of `ngsxfem`s features for advanced discretization techniques"
   ]
  },
  {
   "cell_type": "markdown",
   "metadata": {},
   "source": [
    "### 5. Surface PDEs\n",
    "* 5a: [tracefem_scalar.ipynb](tracefem_scalar.ipynb) on TraceFEM for a scalar PDE on a stationary unfitted surface\n",
    "* 5b: [tracefem_vector.ipynb](tracefem_vector.ipynb) on TraceFEM for a vectorial PDE on a stationary unfitted surface (due to Thomas Jankuhn)\n",
    "\n",
    "  Both units apply the components of `ngsxfem` introduced in unit 1. "
   ]
  },
  {
   "cell_type": "markdown",
   "metadata": {},
   "source": [
    "### 6. Preconditioning\n",
    "* 6: [cutmg.ipynb](cutmg.ipynb) on Multigrid Preconditioning for unfitted FEM discretizations  (due to Thomas Ludescher)\n",
    "\n",
    "  This unit extends the usual facilities of `ngsxfem` by a Multigrid preconditioner for unfitted FEM discretizations."
   ]
  },
  {
   "cell_type": "markdown",
   "metadata": {},
   "source": [
    "### 7. Discrete fracture model\n",
    "* 7: [mlset_dfm.ipynb](mlset_dfm.ipynb) discrete fracture model using standard FEM and multiple level sets to describe fractures (due to Guosheng Fu)\n",
    "\n",
    "  This unit applies the feature of multiple level sets to solve discrete fracture model."
   ]
  },
  {
   "cell_type": "markdown",
   "metadata": {},
   "source": [
    "### 8. Unique continuation\n",
    "* 8: [cutfem_uc.ipynb](cutfem_uc.ipynb) unique continuation for an elliptic interface problem discretized using unfitted isoparametric CutFEM. \n",
    "\n",
    "   This unit revisits the interface problem [cutfem.ipynb](cutfem.ipynb) introduced in unit 2 in a setting where boundary data is unavaible. We show how to implement suitable regularization terms (Galerkin-least squares, continuous interior penalty, tangential jumps on the interface ...) to deal with the ill-posed character of the problem. "
   ]
  }
 ],
 "metadata": {
  "kernelspec": {
   "display_name": "Python 3 (ipykernel)",
   "language": "python",
   "name": "python3"
  },
  "language_info": {
   "codemirror_mode": {
    "name": "ipython",
    "version": 3
   },
   "file_extension": ".py",
   "mimetype": "text/x-python",
   "name": "python",
   "nbconvert_exporter": "python",
   "pygments_lexer": "ipython3",
   "version": "3.10.7"
  }
 },
 "nbformat": 4,
 "nbformat_minor": 2
}

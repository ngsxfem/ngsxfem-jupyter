{
 "cells": [
  {
   "cell_type": "markdown",
   "metadata": {},
   "source": [
    "# Multigrid Solvers for scalar unfitted interface problems"
   ]
  },
  {
   "cell_type": "markdown",
   "metadata": {},
   "source": [
    "### PDE\n",
    "\n",
    "We solve the following interface problem:\n",
    "\\begin{align*}\n",
    "  - \\mu_i \\Delta u &= f_i \\quad \\text{ in } \\Omega_i, \\tag{P1}\\\\\n",
    "  [\\![ u ]\\!] &= 0 \\quad \\text{ on } \\Gamma, \\tag{P2} \\\\\n",
    "  [\\![ - \\mu \\frac{\\partial u}{\\partial n} ]\\!] &= 0 \\quad \\text{ on } \\Gamma. \\tag{P3}\n",
    "\\end{align*}\n",
    "Here, $\\Omega_1$ and $\\Omega_2$ are two disjoint subdomains that fill the background domain that is assumed to be meshed. $\\Gamma$ is the dividing surface between $\\Omega_1$ and $\\Omega_2$ and it is assumed that $\\Gamma$ is not aligned. $\\mu$ is a domain-wise constant coefficient which may be different in the two subdomains."
   ]
  },
  {
   "cell_type": "markdown",
   "metadata": {},
   "source": [
    "### Imports"
   ]
  },
  {
   "cell_type": "code",
   "execution_count": null,
   "metadata": {},
   "outputs": [],
   "source": [
    "# solve the interface Poisson equation - mu Delta u = f in Omega_i\n",
    "# with interface conditions                     [u] = 0 on Gamma\n",
    "#                                       [-mu du/dn] = 0 on Gamma\n",
    "# with Dirichlet boundary condition u = 0\n",
    "\n",
    "from ngsolve.meshes import*\n",
    "from ngsolve import *\n",
    "from ngsolve.krylovspace import CG\n",
    "from netgen.occ import *\n",
    "from xfem import *\n",
    "from xfem.cutmg import MultiGridCL, CutFemSmoother, LinearMGIterator\n",
    "from xfem.lsetcurv import *\n",
    "\n",
    "from ngsolve.webgui import *\n",
    "ngsglobals.msg_level = 1"
   ]
  },
  {
   "cell_type": "markdown",
   "metadata": {},
   "source": [
    "### Background mesh"
   ]
  },
  {
   "cell_type": "code",
   "execution_count": null,
   "metadata": {},
   "outputs": [],
   "source": [
    "# generate a triangular mesh of mesh-size 0.2\n",
    "\n",
    "def MakeCoarseMesh():\n",
    "    square = OCCGeometry(unit_square_shape.Scale((0,0,0),3).Move((-1.5,-1.5,0)), dim=2)\n",
    "    mesh = Mesh (square.GenerateMesh(maxh=0.2, quad_dominated=False))\n",
    "    return mesh\n",
    "\n",
    "mesh = MakeCoarseMesh()\n",
    "Draw(mesh)"
   ]
  },
  {
   "cell_type": "markdown",
   "metadata": {},
   "source": [
    "Here we choose the coefficients (you may play around with these parameters later):"
   ]
  },
  {
   "cell_type": "code",
   "execution_count": null,
   "metadata": {},
   "outputs": [],
   "source": [
    "mu = [1e-5, 1]"
   ]
  },
  {
   "cell_type": "markdown",
   "metadata": {},
   "source": [
    "### Example with analytical solution"
   ]
  },
  {
   "cell_type": "markdown",
   "metadata": {},
   "source": [
    "The interfrace $\\Gamma$ is defined by the zero level of the levelset function"
   ]
  },
  {
   "cell_type": "code",
   "execution_count": null,
   "metadata": {},
   "outputs": [],
   "source": [
    "levelset = sqrt(x**2+y**2) - 1"
   ]
  },
  {
   "cell_type": "markdown",
   "metadata": {},
   "source": [
    "Analytical solution and corresponding data functions are given by:"
   ]
  },
  {
   "cell_type": "code",
   "execution_count": null,
   "metadata": {},
   "outputs": [],
   "source": [
    "rhsscal = -4*mu[0]*mu[1] \n",
    "coef_f = [ rhsscal, rhsscal ]\n",
    "distsq = x**2 + y**2 - 1\n",
    "solution = [ mu[1] * distsq, mu[0] * distsq ]"
   ]
  },
  {
   "cell_type": "markdown",
   "metadata": {},
   "source": [
    "### Geometry through level set P1 representation:\n",
    "the approximate interface is given by the linearized levelset function"
   ]
  },
  {
   "cell_type": "code",
   "execution_count": null,
   "metadata": {},
   "outputs": [],
   "source": [
    "def GetLevelSetGeometry(mesh):\n",
    "    lsetp1 = GridFunction(H1(mesh, order = 1))\n",
    "    InterpolateToP1(levelset,lsetp1)\n",
    "    ci = CutInfo(mesh, lsetp1)   \n",
    "    return ci, lsetp1"
   ]
  },
  {
   "cell_type": "markdown",
   "metadata": {},
   "source": [
    "### Discretization:\n",
    "We use the cut finite element space"
   ]
  },
  {
   "cell_type": "code",
   "execution_count": null,
   "metadata": {},
   "outputs": [],
   "source": [
    "def GetCutFESpace(mesh):\n",
    "    Vh = H1(mesh, order=1, dirichlet=[1,2,3,4])\n",
    "    VhNeg = Compress( Vh, active_dofs = GetDofsOfElements(Vh,ci.GetElementsOfType(HASNEG)))\n",
    "    VhPos = Compress( Vh, active_dofs = GetDofsOfElements(Vh,ci.GetElementsOfType(HASPOS)))\n",
    "    CutVh = FESpace( [VhNeg, VhPos], flags={\"dgjumps\": True} )\n",
    "    return CutVh"
   ]
  },
  {
   "cell_type": "markdown",
   "metadata": {},
   "source": [
    "with the coefficient stable discretization\n",
    "$$\n",
    " A_h(u_h,v_h) = a_h(u_h,v_h) + \\varepsilon_g j_h(u_h,v_h)\n",
    "$$\n",
    "$u_h, v_h \\in V_h^- \\times V_h^+$\n",
    "and Poisson part\n",
    "$$\n",
    "  a_h(u_h,v_h) = \\sum_{i=1,2} \\int_{\\Omega_i} \\mu_i \\nabla u_{i,h} \\cdot \\nabla v_{i,h} ~dx\n",
    "  - \\int_\\Gamma \\{\\mu \\nabla u_h \\cdot n_\\Gamma\\}_\\mu [v_h] ~ds \n",
    "  - \\int_\\Gamma \\{\\mu \\nabla v_h \\cdot n_\\Gamma\\}_\\mu [u_h] ~ds \\\\\n",
    "  + \\frac{\\lambda_N}{h} \\frac{\\mu_1\\mu_2}{\\mu_1 + \\mu_2}\\int_\\Gamma [u_h][v_h] ~ds\n",
    "$$\n",
    "using the averaging \n",
    "$$\\{u_h\\}_\\mu = \\frac{\\mu_2}{\\mu_1+\\mu_2} u_{1,h} + \\frac{\\mu_2}{\\mu_1+\\mu_2} u_{2,h}$$\n",
    "and the ghost penalty term \n",
    "$$\n",
    " j_h(u_h,v_h) = \\sum_{i=1,2} \\sum_{F \\in \\mathcal{F_i}} \\frac{\\mu_i}{h^2} \\int_{\\omega_F}(u_{i,h}|_{T_1} - u_{i,h}|_{T_2}) (v_{i,h}|_{T_1} - v_{i,h}|_{T_2}) ~dx\n",
    "$$\n",
    "\n",
    "![alt](graphics/macro-element.png) \n",
    "\n",
    "with the discretization parameters:"
   ]
  },
  {
   "cell_type": "code",
   "execution_count": null,
   "metadata": {},
   "outputs": [],
   "source": [
    "gamma_stab = 10     # Ghost penalty\n",
    "lambda_nitsche = 10 # Nitsche penalty\n",
    "nref = 3            # number of refinements"
   ]
  },
  {
   "cell_type": "markdown",
   "metadata": {},
   "source": [
    "### Assembling of CutFEM matrix:"
   ]
  },
  {
   "cell_type": "code",
   "execution_count": null,
   "metadata": {},
   "outputs": [],
   "source": [
    "def AssembleCutPoisson(**kwargs):\n",
    "    ci = kwargs['ci']\n",
    "    lsetp1 = kwargs['lsetp1']\n",
    "    order = kwargs['order']\n",
    "    CutVh = kwargs['CutVh']\n",
    "    \n",
    "    \n",
    "    # face sets for ghost penalty\n",
    "    ba_facets   = [GetFacetsWithNeighborTypes(mesh,\n",
    "                                              a=ci.GetElementsOfType(HASNEG),\n",
    "                                              b=ci.GetElementsOfType(IF)),\n",
    "                   GetFacetsWithNeighborTypes(mesh,\n",
    "                                              a=ci.GetElementsOfType(HASPOS),\n",
    "                                              b=ci.GetElementsOfType(IF))\n",
    "                  ]\n",
    "\n",
    "    n_lset  = 1.0/grad(lsetp1).Norm() * grad(lsetp1)\n",
    "    h       = specialcf.mesh_size\n",
    "\n",
    "    kappa = [ mu[1] / ( mu[0] + mu[1] ) , mu[0] /  ( mu[0] + mu[1] ) ]\n",
    "    \n",
    "    # stabilization parameter for Nitsche\n",
    "    nitsche_penalty  = 2*mu[0]*mu[1]/(mu[0] + mu[1]) * lambda_nitsche * order * order        \n",
    "        \n",
    "    # expressions of test and trial functions (u and v are tuples):\n",
    "    (u,v) = CutVh.TnT()\n",
    "\n",
    "    gradu = [grad(ui) for ui in u]\n",
    "    gradv = [grad(vi) for vi in v]\n",
    "\n",
    "    average_flux_u = sum([- kappa[i] * mu[i] * gradu[i] * n_lset for i in [0,1]])\n",
    "    average_flux_v = sum([- kappa[i] * mu[i] * gradv[i] * n_lset for i in [0,1]])\n",
    "    jmp_u = u[0] - u[1]\n",
    "    jmp_v = v[0] - v[1]\n",
    "\n",
    "    # integration domains\n",
    "    lset_doms = [{ \"levelset\" : lsetp1, \"domain_type\" : dt} for dt in [NEG,POS,IF]]\n",
    "    # bilinear forms:\n",
    "    a = BilinearForm(CutVh, symmetric = False)\n",
    "\n",
    "\n",
    "    #domain integrals:\n",
    "    for i in [0,1] :\n",
    "        a += SymbolicBFI( lset_doms[i], form = mu[i] * gradu[i] * gradv[i] )        \n",
    "\n",
    "    # Nitsche integrals:\n",
    "    a += SymbolicBFI(lset_doms[2], form = average_flux_u * jmp_v\n",
    "                                        + average_flux_v * jmp_u\n",
    "                                        + nitsche_penalty / h * jmp_u * jmp_v ) \n",
    "\n",
    "    for i in [0,1]:\n",
    "        # Ghost penalty\n",
    "        a += SymbolicFacetPatchBFI( form =  gamma_stab  * \n",
    "                                    mu[i] / h / h * \n",
    "                                    (u[i] - u[i].Other()) * (v[i] - v[i].Other()), \n",
    "                                    skeleton=False, definedonelements=ba_facets[i] )\n",
    "\n",
    "\n",
    "    #if( order > 1) and deformation:\n",
    "    #    mesh.SetDeformation( deformation )\n",
    "\n",
    "    # setting up matrix and vector\n",
    "    a.Assemble()    \n",
    "    \n",
    "    f = LinearForm(CutVh)        \n",
    "    for i in [0,1] :\n",
    "        f += SymbolicLFI( lset_doms[i], form = coef_f[i] * v[i] )\n",
    "    f.Assemble()\n",
    "    \n",
    "    return (a,f)"
   ]
  },
  {
   "cell_type": "markdown",
   "metadata": {},
   "source": [
    "### Measuring the error"
   ]
  },
  {
   "cell_type": "code",
   "execution_count": null,
   "metadata": {},
   "outputs": [],
   "source": [
    "def ComputeL2Error(gfu,lsetp1):    # Computation of L2 error:\n",
    "    err_sqr_coefs = [(gfu.components[i]-solution[i])*(gfu.components[i]-solution[i]) for i in [0,1] ]\n",
    "    lset_doms = [{ \"levelset\" : lsetp1, \"domain_type\" : dt} for dt in [NEG,POS]]\n",
    "    l2error = sqrt(sum([Integrate(lset_doms[i], cf=err_sqr_coefs[i], mesh=mesh, order=2*1) for i in [0,1] ]))   \n",
    "    return l2error"
   ]
  },
  {
   "cell_type": "code",
   "execution_count": null,
   "metadata": {},
   "outputs": [],
   "source": [
    "def CreateLsetMeshAdapt(order):\n",
    "    lsetmeshadap = LevelSetMeshAdaptation(mesh, order=order, threshold=1000, discontinuous_qn=True)\n",
    "    deformation = lsetmeshadap.CalcDeformation(levelset)\n",
    "    lsetp1 = lsetmeshadap.lset_p1\n",
    "\n",
    "    return (lsetmeshadap, deformation, lsetp1 )\n"
   ]
  },
  {
   "cell_type": "code",
   "execution_count": null,
   "metadata": {},
   "outputs": [],
   "source": [
    "Vh = H1(mesh, order=1, dirichlet=[1,2,3,4])"
   ]
  },
  {
   "cell_type": "code",
   "execution_count": null,
   "metadata": {},
   "outputs": [],
   "source": [
    "(lsetmeshadap, deformation, lsetp1 ) = CreateLsetMeshAdapt(order=1)"
   ]
  },
  {
   "cell_type": "code",
   "execution_count": null,
   "metadata": {},
   "outputs": [],
   "source": [
    "ci = CutInfo(mesh,lsetp1)"
   ]
  },
  {
   "cell_type": "markdown",
   "metadata": {},
   "source": [
    "### Solution with a direct solver"
   ]
  },
  {
   "cell_type": "code",
   "execution_count": null,
   "metadata": {},
   "outputs": [],
   "source": [
    "for i in range(nref):\n",
    "    mesh.Refine()"
   ]
  },
  {
   "cell_type": "code",
   "execution_count": null,
   "metadata": {},
   "outputs": [],
   "source": [
    "lsetmeshadap, deformation, lsetp1 = CreateLsetMeshAdapt(order=1)\n",
    "ci = CutInfo(mesh,lsetp1)\n",
    "CutFes = GetCutFESpace(mesh)"
   ]
  },
  {
   "cell_type": "code",
   "execution_count": null,
   "metadata": {},
   "outputs": [],
   "source": [
    "\n",
    "a, f = AssembleCutPoisson( CutVh=CutFes, ci=ci, lsetp1=lsetp1, order=1 )\n",
    "\n",
    "#updating with non-homogeneous boundary conditions\n",
    "gfu = GridFunction( CutFes )\n",
    "#boundary lies in positive part\n",
    "gfu.components[1].Set( solution[1], BND )\n",
    "#account for boundary conditions\n",
    "f.vec.data -= a.mat * gfu.vec\n",
    "gfu.vec.data += a.mat.Inverse(CutFes.FreeDofs()) * f.vec\n",
    "l2error = ComputeL2Error(gfu,lsetp1)\n",
    "print(\"L2 error : \",l2error)"
   ]
  },
  {
   "cell_type": "markdown",
   "metadata": {},
   "source": [
    "# Solution of linear systems with a (Cut)MultiGrid"
   ]
  },
  {
   "cell_type": "markdown",
   "metadata": {},
   "source": [
    "We re-initialize the mesh"
   ]
  },
  {
   "cell_type": "code",
   "execution_count": null,
   "metadata": {},
   "outputs": [],
   "source": [
    "mesh = MakeCoarseMesh()"
   ]
  },
  {
   "cell_type": "markdown",
   "metadata": {},
   "source": [
    "#### A smoother tailored for interface CutFEM problems:\n",
    "The smoother essentially implements the $\\texttt{Smooth}$ operation and is loaded via the xfem.cutmg library.\n",
    "It consists of standard (Gauss-Seidel) smoothing in the subdomains and is followed by an interface correction on the cut elements\n",
    "\n",
    "\\begin{align*}\n",
    "  x &= S(x,b) \\quad {\\small\\text{#standard Gauss Seidel smoothing}}  \\\\\n",
    "  x &= x - (R^\\Gamma)^T (A^\\Gamma)^{-1} R^\\Gamma ( Ax -b ) \\quad {\\small\\text{#interface smoothing}}\n",
    "\\end{align*}\n",
    "\n",
    "such that $A^\\Gamma$ is the restriction of $A$ to the interface band $\\Omega_\\Gamma$ and $R^\\Gamma$ the corresponding mapping\n",
    "\n",
    "<center>![alt](graphics/if-patch.png)</center>"
   ]
  },
  {
   "cell_type": "markdown",
   "metadata": {},
   "source": [
    "We can choose between running the multigrid method as a preconditioner inside a CG solver or within a Richardson iteration"
   ]
  },
  {
   "cell_type": "code",
   "execution_count": null,
   "metadata": {},
   "outputs": [],
   "source": [
    "# run multigrid as preconditioner inside a CG method\n",
    "# or as a standalone (Richardson) iteration\n",
    "MGprecond = False\n",
    "\n",
    "if( MGprecond ):\n",
    "    mgmaxit = 1      #only 1 V-cycle as preconditioning\n",
    "    mgprint = False  #don't print anything when being used as a preconditioner\n",
    "else:\n",
    "    mgmaxit = 30\n",
    "    mgprint = True"
   ]
  },
  {
   "cell_type": "markdown",
   "metadata": {},
   "source": [
    "### Multigrid solver for P1 discretization\n",
    "We refine the mesh, solve the system by the multigrid solver and compute the current error.\n",
    "\n",
    "For the coarse level matrices we use direct discretization."
   ]
  },
  {
   "cell_type": "code",
   "execution_count": null,
   "metadata": {},
   "outputs": [],
   "source": [
    "for i in range(nref+1):\n",
    "    if i == 0:\n",
    "        ci, lsetp1 = GetLevelSetGeometry(mesh)        \n",
    "        CutVh = GetCutFESpace(mesh)\n",
    "        gfu = GridFunction(CutVh)\n",
    "        #ucoef = IfPos(  )\n",
    "        scene = DrawDC(lsetp1, gfu.components[1], gfu.components[0], mesh, 'u') \n",
    "    else:\n",
    "        #mesh update\n",
    "        mesh.Refine()\n",
    "        \n",
    "        #lset geom update\n",
    "        lsetp1.space.Update()\n",
    "        lsetp1.Update()    \n",
    "        InterpolateToP1(levelset,lsetp1)\n",
    "        ci = CutInfo(mesh,lsetp1)        \n",
    "        \n",
    "        #cut space update\n",
    "        Vh = CutVh.components[0].GetBaseSpace()\n",
    "        Vh.Update()\n",
    "        CutVh.components[0].SetActiveDofs( GetDofsOfElements(Vh,ci.GetElementsOfType(HASNEG)))\n",
    "        CutVh.components[1].SetActiveDofs( GetDofsOfElements(Vh,ci.GetElementsOfType(HASPOS)))\n",
    "        CutVh.Update()\n",
    "\n",
    "        gfu.Update()\n",
    "        \n",
    "    a,f = AssembleCutPoisson( CutVh=CutVh, ci=ci, lsetp1=lsetp1, order=1 )\n",
    "\n",
    "    if i == 0:\n",
    "        # initialize mg iterator (for p1 elements)\n",
    "        # we use nu=1 smoothing step for pre- and post-smoothing\n",
    "        # and pass the \"AssembleCutPoisson\" function for setting up the coarse grid matrices\n",
    "        mgiter = LinearMGIterator(a=a, ci=ci, lsetp1=lsetp1, nref=nref, mesh=mesh,\n",
    "                                  nu=1,maxit=mgmaxit, printinfo=mgprint, ProlType=P1Prolongation,\n",
    "                                  ifsolver=\"cg\", assemblefct=AssembleCutPoisson )\n",
    "    else:\n",
    "        mgiter.Update(a,CutVh,ci)\n",
    "        \n",
    "    gfu.components[1].Set( solution[1], BND )\n",
    "    f.vec.data -= a.mat * gfu.vec\n",
    "    update = gfu.vec.CreateVector()\n",
    "    \n",
    "    if( MGprecond ):\n",
    "        # watch out, when comparing the number of iterations\n",
    "        # here the tolerance is prescribed for ||e||_A instead of ||r||_2\n",
    "        update = CG(a.mat, f.vec, pre=mgiter, maxsteps=20, tol=1e-6,printrates=True)\n",
    "    else:\n",
    "        update = mgiter * f.vec\n",
    "\n",
    "    gfu.vec.data += update\n",
    "    \n",
    "    # Computation of L2 error:\n",
    "    err_sqr_coefs = [(gfu.components[i]-solution[i])*(gfu.components[i]-solution[i]) for i in [0,1] ]\n",
    "    lset_doms = [{ \"levelset\" : lsetp1, \"domain_type\" : dt} for dt in [NEG,POS,IF]]    \n",
    "    l2error = sqrt( sum( [Integrate(lset_doms[i], cf=err_sqr_coefs[i], mesh=mesh, order=2*1, heapsize=1000000) for i in [0,1] ]))   \n",
    "    print(\"L2 error : \",l2error) \n",
    "    \n",
    "    scene.Redraw()    "
   ]
  }
 ],
 "metadata": {
  "kernelspec": {
   "display_name": "Python 3 (ipykernel)",
   "language": "python",
   "name": "python3"
  },
  "language_info": {
   "codemirror_mode": {
    "name": "ipython",
    "version": 3
   },
   "file_extension": ".py",
   "mimetype": "text/x-python",
   "name": "python",
   "nbconvert_exporter": "python",
   "pygments_lexer": "ipython3",
   "version": "3.11.4"
  }
 },
 "nbformat": 4,
 "nbformat_minor": 2
}

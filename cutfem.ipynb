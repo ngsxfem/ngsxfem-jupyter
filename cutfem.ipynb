{
 "cells": [
  {
   "cell_type": "markdown",
   "metadata": {
    "slideshow": {
     "slide_type": "slide"
    }
   },
   "source": [
    "# Unfitted FEM discretizations\n",
    "\n",
    "We want to solve a geometrically unfitted model problem for a *stationary* domain.\n",
    "\n",
    "We use a level set description (cf. [basics.ipynb](basics.ipynb)): \n",
    "\n",
    "$$\n",
    "  \\Omega_{-} := \\{ \\phi < 0 \\}, \\quad\n",
    "  \\Omega_{+} := \\{ \\phi > 0 \\}, \\quad\n",
    "  \\Gamma := \\{ \\phi = 0 \\}.\n",
    "$$\n",
    "\n",
    "and use a piecewise linear approximation as *a starting point* in the discretization (cf. [intlset.ipynb](intlset.ipynb) for a discussion of geometry approximations). \n"
   ]
  },
  {
   "cell_type": "markdown",
   "metadata": {
    "slideshow": {
     "slide_type": "subslide"
    }
   },
   "source": [
    "We first import the related packages: \n"
   ]
  },
  {
   "cell_type": "code",
   "execution_count": null,
   "metadata": {
    "slideshow": {
     "slide_type": "-"
    }
   },
   "outputs": [],
   "source": [
    "# the constant pi\n",
    "from math import pi\n",
    "# ngsolve stuff\n",
    "from ngsolve import *\n",
    "# basic xfem functionality\n",
    "from xfem import *\n",
    "# basic geometry features (for the background mesh)\n",
    "from netgen.geom2d import SplineGeometry\n",
    "# visualization stuff\n",
    "from ngsolve.webgui import * \n",
    "DrawDC = MakeDiscontinuousDraw(Draw)"
   ]
  },
  {
   "cell_type": "markdown",
   "metadata": {
    "slideshow": {
     "slide_type": "slide"
    }
   },
   "source": [
    "\n",
    "![title](graphics/bubble_coarse.png)\n",
    "\n",
    "## Interface problem \n",
    "\n",
    "We want to solve a problem of the form: \n",
    "\n",
    "$$\n",
    "\\left\\{\n",
    "\\begin{aligned}\n",
    "          - \\nabla \\cdot (\\alpha_{\\pm} \\nabla u) = & \\, f \n",
    "          & & \\text{in}~~ \\Omega_{\\pm}, \n",
    "          \\\\\n",
    "          [\\![u]\\!] = & \\, 0 \n",
    "          &  & \\text{on}~~ \\Gamma, \n",
    "          \\\\\n",
    "          [\\![-\\alpha \\nabla u \\cdot \\mathbf{n}]\\!]   = & \\, 0 \n",
    "          &  & \\text{on}~~ \\Gamma,\n",
    "          \\\\\n",
    "          u = & \\, u_D\n",
    "          &  & \\text{on}~~ \\partial \\Omega.\n",
    "        \\end{aligned} \\right.\n",
    "$$\n"
   ]
  },
  {
   "cell_type": "code",
   "execution_count": null,
   "metadata": {
    "slideshow": {
     "slide_type": "subslide"
    }
   },
   "outputs": [],
   "source": [
    "square = SplineGeometry()\n",
    "square.AddRectangle([-1.5,-1.5],[1.5,1.5],bc=1)\n",
    "mesh = Mesh (square.GenerateMesh(maxh=0.4, quad_dominated=False))\n",
    "\n",
    "levelset = (sqrt(x*x+y*y) - 1.0)\n",
    "DrawDC(levelset, -3.5, 2.5, mesh,\"levelset\")\n",
    "\n",
    "lsetp1 = GridFunction(H1(mesh,order=1))\n",
    "InterpolateToP1(levelset,lsetp1)\n",
    "DrawDC(lsetp1, -3.5, 2.5, mesh, \"lsetp1\")"
   ]
  },
  {
   "cell_type": "markdown",
   "metadata": {
    "slideshow": {
     "slide_type": "slide"
    }
   },
   "source": [
    "### Cut FE spaces\n",
    "\n",
    "For the discretization we use standard background FESpaces restricted to the subdomains: \n",
    "\n",
    "$$\n",
    "V_h^\\Gamma \\quad = \\qquad V_h |_{\\Omega_-^{lin}} \\quad \\oplus \\quad V_h |_{\\Omega_+^{lin}}\n",
    "$$\n",
    "\n",
    "| composed | inner | outer |\n",
    "|-|-|-|\n",
    "| ![alt](graphics/SpaceBoth.png) | ![alt](graphics/SpaceInner.png) | ![alt](graphics/SpaceOuter.png) |\n",
    "\n",
    "In NGSolve we simply take the product space $V_h \\times V_h$ but mark the irrelevant dofs using the CutInfo-class:\n"
   ]
  },
  {
   "cell_type": "code",
   "execution_count": null,
   "metadata": {
    "slideshow": {
     "slide_type": "subslide"
    }
   },
   "outputs": [],
   "source": [
    "Vh = H1(mesh, order=2, dirichlet=[1,2,3,4])\n",
    "VhG = FESpace([Vh,Vh])\n",
    "\n",
    "ci = CutInfo(mesh, lsetp1)\n",
    "freedofs = VhG.FreeDofs()\n",
    "freedofs &= CompoundBitArray([GetDofsOfElements(Vh,ci.GetElementsOfType(HASNEG)),\n",
    "                              GetDofsOfElements(Vh,ci.GetElementsOfType(HASPOS))])\n",
    "\n",
    "gfu = GridFunction(VhG)"
   ]
  },
  {
   "cell_type": "markdown",
   "metadata": {
    "slideshow": {
     "slide_type": "subslide"
    }
   },
   "source": [
    "### Let us visualize active dofs:\n",
    "* active dofs of first space are set to -1\n",
    "* active dofs of second space are set to 1\n",
    "* inactive dofs are 0"
   ]
  },
  {
   "cell_type": "code",
   "execution_count": null,
   "metadata": {
    "slideshow": {
     "slide_type": "-"
    }
   },
   "outputs": [],
   "source": [
    "gfu.components[0].Set(CoefficientFunction(-1))\n",
    "gfu.components[1].Set(CoefficientFunction(1))\n",
    "for i, val in enumerate(freedofs):\n",
    "    if not val:\n",
    "        gfu.vec[i] = 0.0"
   ]
  },
  {
   "cell_type": "code",
   "execution_count": null,
   "metadata": {
    "slideshow": {
     "slide_type": "fragment"
    }
   },
   "outputs": [],
   "source": [
    "Draw(gfu.components[0], mesh, \"background_uneg\")"
   ]
  },
  {
   "cell_type": "code",
   "execution_count": null,
   "metadata": {
    "slideshow": {
     "slide_type": "fragment"
    }
   },
   "outputs": [],
   "source": [
    "Draw(gfu.components[1], mesh, \"background_upos\")"
   ]
  },
  {
   "cell_type": "markdown",
   "metadata": {
    "slideshow": {
     "slide_type": "subslide"
    }
   },
   "source": [
    "Only the parts which are in the corresponding subdomain are relevant. The solution $u$ is: \n",
    "\n",
    "$$\n",
    " u = \\left\\{ \\begin{array}{cc} u_- & \\text{ if } {\\phi}_h^{lin} < 0, \\\\ u_+ & \\text{ if } {\\phi}_h^{lin} \\geq 0. \\end{array} \\right.\n",
    "$$\n"
   ]
  },
  {
   "cell_type": "code",
   "execution_count": null,
   "metadata": {
    "slideshow": {
     "slide_type": "-"
    }
   },
   "outputs": [],
   "source": [
    "DrawDC(lsetp1, gfu.components[0], gfu.components[1], mesh, \"u\")"
   ]
  },
  {
   "cell_type": "markdown",
   "metadata": {
    "slideshow": {
     "slide_type": "subslide"
    }
   },
   "source": [
    "### Improvement: use `Compress` to reduce unused dofs"
   ]
  },
  {
   "cell_type": "code",
   "execution_count": null,
   "metadata": {
    "slideshow": {
     "slide_type": "-"
    }
   },
   "outputs": [],
   "source": [
    "Vh = H1(mesh, order=2, dirichlet=[1,2,3,4])\n",
    "ci = CutInfo(mesh, lsetp1)\n",
    "VhG = FESpace([Compress(Vh,GetDofsOfElements(Vh,ci.GetElementsOfType(cdt))) for cdt in [HASNEG,HASPOS]])\n",
    "\n",
    "freedofs = VhG.FreeDofs()\n",
    "gfu = GridFunction(VhG)\n",
    "\n",
    "DrawDC(lsetp1, gfu.components[0], gfu.components[1], mesh, \"u\")\n",
    "print(Vh.ndof, VhG.components[0].ndof, VhG.components[1].ndof)"
   ]
  },
  {
   "cell_type": "markdown",
   "metadata": {
    "slideshow": {
     "slide_type": "slide"
    }
   },
   "source": [
    "## Nitsche discretization\n",
    "\n",
    "For the discretization of the interface problem we consider the Nitsche formulation:\n",
    "\\begin{align*}\n",
    "         \\sum_{i \\in \\{+,-\\}} & \\left( \\alpha_i \\nabla u \\nabla v \\right)_{\\Omega_i} + \\left( \\{\\!\\!\\{ - \\alpha \\nabla u \\cdot n \\}\\!\\!\\}, [\\![v]\\!] \\right)_\\Gamma + \\left( [\\![u]\\!],\\{\\!\\!\\{ - \\alpha \\nabla v \\cdot n \\}\\!\\!\\} \\right)_\\Gamma + \\left( \\frac{\\bar{\\alpha} \\lambda}{h}  [\\![u]\\!] , [\\![v]\\!] \\right)_{\\Gamma} \\\\\n",
    "         = \\left( f,v \\right)_{\\Omega}\n",
    "\\end{align*}\n",
    "\n",
    "for all $v \\in V_h^\\Gamma$.\n",
    "\n",
    "For this formulation we require:\n",
    "* a suitably defined average operator $\\{ \\cdot \\} = \\kappa_+ (\\cdot)|_{\\Omega_{+}} + \\kappa_- (\\cdot)|_{\\Omega_{-}}$\n",
    "* a suitable definition of the normal direction\n",
    "* numerical integration on $\\Omega_{+}^{lin}$, $\\Omega_{-}^{lin}$ and $\\Gamma^{lin}$"
   ]
  },
  {
   "cell_type": "markdown",
   "metadata": {
    "slideshow": {
     "slide_type": "subslide"
    }
   },
   "source": [
    "### Cut ratio field\n",
    "\n",
    "For the average we use the \"Hansbo\"-choice: \n",
    "\n",
    "$$\n",
    "\\kappa_- = \\frac{|T \\cap \\Omega_-^{lin}|}{|T|} \\qquad \n",
    "\\kappa_+ = 1 - \\kappa_- \n",
    "$$\n",
    "\n",
    "This \"cut ratio\" field is provided by the CutInfo class: \n"
   ]
  },
  {
   "cell_type": "code",
   "execution_count": null,
   "metadata": {
    "slideshow": {
     "slide_type": "-"
    }
   },
   "outputs": [],
   "source": [
    "kappaminus = CutRatioGF(ci)\n",
    "kappa = (kappaminus, 1-kappaminus)\n",
    "Draw(kappaminus, mesh, \"kappa\")"
   ]
  },
  {
   "cell_type": "markdown",
   "metadata": {
    "slideshow": {
     "slide_type": "subslide"
    }
   },
   "source": [
    "### Normal direction\n",
    "\n",
    "The normal direction is obtained from the (interpolated) level set function:\n",
    "\n",
    "$$\n",
    "  n^{lin} = \\frac{\\nabla \\phi_h^{lin}}{\\Vert \\nabla \\phi_h^{lin} \\Vert}\n",
    "$$\n"
   ]
  },
  {
   "cell_type": "code",
   "execution_count": null,
   "metadata": {
    "slideshow": {
     "slide_type": "-"
    }
   },
   "outputs": [],
   "source": [
    "n = 1.0/grad(lsetp1).Norm() * grad(lsetp1)\n",
    "Draw(n, mesh, \"normal\", vectors={'grid_size': 20})"
   ]
  },
  {
   "cell_type": "markdown",
   "metadata": {
    "slideshow": {
     "slide_type": "subslide"
    }
   },
   "source": [
    "### Averages and jumps\n",
    "\n",
    "Based on the background finite elements we can now define the averages and jumps: \n"
   ]
  },
  {
   "cell_type": "code",
   "execution_count": null,
   "metadata": {
    "slideshow": {
     "slide_type": "-"
    }
   },
   "outputs": [],
   "source": [
    "h = specialcf.mesh_size\n",
    "\n",
    "alpha = [1.0,20.0]\n",
    "\n",
    "# Nitsche stabilization parameter:\n",
    "stab = 20*(alpha[1]+alpha[0])/h\n",
    "\n",
    "# expressions of test and trial functions (u and v are tuples):\n",
    "u,v = VhG.TnT()\n",
    "\n",
    "average_flux_u = sum([- kappa[i] * alpha[i] * grad(u[i]) * n for i in [0,1]])\n",
    "average_flux_v = sum([- kappa[i] * alpha[i] * grad(v[i]) * n for i in [0,1]])\n",
    "\n",
    "jump_u = u[0] - u[1]\n",
    "jump_v = v[0] - v[1]"
   ]
  },
  {
   "cell_type": "markdown",
   "metadata": {
    "slideshow": {
     "slide_type": "subslide"
    }
   },
   "source": [
    "### Integrals\n",
    "\n",
    "To integrate only on the subdomains or the interface with a SymbolicBFI you have to add a \"levelset_domain\" argument which is a dictionary, cf. [intlset.ipynb](intlset.ipynb): \n"
   ]
  },
  {
   "cell_type": "code",
   "execution_count": null,
   "metadata": {
    "slideshow": {
     "slide_type": "-"
    }
   },
   "outputs": [],
   "source": [
    "lset_neg = { \"levelset\" : lsetp1, \"domain_type\" : NEG}\n",
    "lset_pos = { \"levelset\" : lsetp1, \"domain_type\" : POS}\n",
    "lset_if  = { \"levelset\" : lsetp1, \"domain_type\" : IF }"
   ]
  },
  {
   "cell_type": "markdown",
   "metadata": {
    "slideshow": {
     "slide_type": "subslide"
    }
   },
   "source": [
    "We first integrate over the subdomains: \n",
    "\n",
    "$$\n",
    "\\int_{\\Omega_-} \\alpha_- \\nabla u \\nabla v \\, d\\omega \n",
    "$$\n",
    "\n",
    "$$\n",
    "\\int_{\\Omega_+} \\alpha_+ \\nabla u \\nabla v \\, d\\omega \n",
    "$$\n"
   ]
  },
  {
   "cell_type": "code",
   "execution_count": null,
   "metadata": {
    "slideshow": {
     "slide_type": "-"
    }
   },
   "outputs": [],
   "source": [
    "bfi_neg = SymbolicBFI(levelset_domain = lset_neg, form = alpha[0] * grad(u[0]) * grad(v[0]))\n",
    "bfi_pos = SymbolicBFI(levelset_domain = lset_pos, form = alpha[1] * grad(u[1]) * grad(v[1]))"
   ]
  },
  {
   "cell_type": "markdown",
   "metadata": {
    "slideshow": {
     "slide_type": "subslide"
    }
   },
   "source": [
    "We then integrate over the interface: \n",
    "\n",
    "$$\n",
    "        \\int_{\\Gamma} \\{\\!\\!\\{ - \\alpha \\nabla u \\cdot \\mathbf{n} \\}\\!\\!\\} [\\![v]\\!] \\, d\\gamma \n",
    "         + \\int_{\\Gamma} \\{\\!\\!\\{ - \\alpha \\nabla v \\cdot \\mathbf{n} \\}\\!\\!\\} [\\![u]\\!] \\, d\\gamma \n",
    "         + \\int_{\\Gamma} \\frac{\\lambda}{h} \\bar{\\alpha} [\\![u]\\!] [\\![v]\\!] \\, d\\gamma\n",
    "$$\n"
   ]
  },
  {
   "cell_type": "code",
   "execution_count": null,
   "metadata": {
    "slideshow": {
     "slide_type": "-"
    }
   },
   "outputs": [],
   "source": [
    "bfi_if  = SymbolicBFI(levelset_domain = lset_if , form =       average_flux_u * jump_v\n",
    "                                                             + average_flux_v * jump_u\n",
    "                                                             +  stab * jump_u * jump_v )"
   ]
  },
  {
   "cell_type": "markdown",
   "metadata": {
    "slideshow": {
     "slide_type": "subslide"
    }
   },
   "source": [
    "We sum them up to get the bilinear form in full: \n"
   ]
  },
  {
   "cell_type": "code",
   "execution_count": null,
   "metadata": {
    "slideshow": {
     "slide_type": "-"
    }
   },
   "outputs": [],
   "source": [
    "a = BilinearForm(VhG, symmetric = True, flags = { })\n",
    "for bfi in [bfi_neg,bfi_pos,bfi_if]:\n",
    "    a += bfi"
   ]
  },
  {
   "cell_type": "markdown",
   "metadata": {
    "slideshow": {
     "slide_type": "subslide"
    }
   },
   "source": [
    "Finally, we integrate over the subdomains to get the linear form: \n",
    "\n",
    "$$\n",
    "f(v) = \\int_{\\Omega_-} f_- v \\, d\\omega + \n",
    "       \\int_{\\Omega_+} f_+ v \\, d\\omega\n",
    "$$\n"
   ]
  },
  {
   "cell_type": "code",
   "execution_count": null,
   "metadata": {
    "slideshow": {
     "slide_type": "-"
    }
   },
   "outputs": [],
   "source": [
    "coef_f = [1,0]    \n",
    "lfi_neg = SymbolicLFI(levelset_domain = lset_neg, form = coef_f[0] * v[0])\n",
    "lfi_pos = SymbolicLFI(levelset_domain = lset_pos, form = coef_f[1] * v[1])\n",
    "\n",
    "f = LinearForm(VhG)\n",
    "f += lfi_neg\n",
    "f += lfi_pos  "
   ]
  },
  {
   "cell_type": "markdown",
   "metadata": {
    "slideshow": {
     "slide_type": "subslide"
    }
   },
   "source": [
    "### Assembly\n",
    "\n",
    "(Only) to speed up assembly we can mark the integrators as undefined where they would be zero anyway: \n"
   ]
  },
  {
   "cell_type": "code",
   "execution_count": null,
   "metadata": {
    "slideshow": {
     "slide_type": "-"
    }
   },
   "outputs": [],
   "source": [
    "bfi_neg.SetDefinedOnElements(ci.GetElementsOfType(HASNEG))\n",
    "lfi_neg.SetDefinedOnElements(ci.GetElementsOfType(HASNEG))\n",
    "bfi_pos.SetDefinedOnElements(ci.GetElementsOfType(HASPOS))\n",
    "lfi_pos.SetDefinedOnElements(ci.GetElementsOfType(HASPOS))\n",
    "bfi_if.SetDefinedOnElements(ci.GetElementsOfType(IF))\n",
    "a.Assemble()\n",
    "f.Assemble()"
   ]
  },
  {
   "cell_type": "markdown",
   "metadata": {
    "slideshow": {
     "slide_type": "subslide"
    }
   },
   "source": [
    "We can now solve the problem (recall that freedofs only marks relevant dofs): \n"
   ]
  },
  {
   "cell_type": "code",
   "execution_count": null,
   "metadata": {
    "slideshow": {
     "slide_type": "-"
    }
   },
   "outputs": [],
   "source": [
    "# homogenization of boundary data and solution of linear system\n",
    "def SolveLinearSystem():\n",
    "    rhs = gfu.vec.CreateVector()\n",
    "    rhs.data = f.vec - a.mat * gfu.vec\n",
    "    update = gfu.vec.CreateVector()\n",
    "    update.data = a.mat.Inverse(freedofs) * rhs\n",
    "    gfu.vec.data += update\n",
    "SolveLinearSystem()\n",
    "\n",
    "DrawDC(lsetp1, gfu.components[0], gfu.components[1], mesh, \"u\")"
   ]
  },
  {
   "cell_type": "markdown",
   "metadata": {
    "slideshow": {
     "slide_type": "slide"
    }
   },
   "source": [
    "## Higher order accuracy\n",
    "In the previous example we used a second order FESpace but only used a second order accurate geometry representation (due to $\\phi_h^{lin}$). \n",
    "\n",
    "We can improve this by applying a mesh transformation technique, cf. [intlset.ipynb](intlset.ipynb):\n",
    "\n",
    "![title](graphics/lsetcurv.jpg)"
   ]
  },
  {
   "cell_type": "code",
   "execution_count": null,
   "metadata": {
    "slideshow": {
     "slide_type": "subslide"
    }
   },
   "outputs": [],
   "source": [
    "# for isoparametric mapping\n",
    "from xfem.lsetcurv import *\n",
    "lsetmeshadap = LevelSetMeshAdaptation(mesh, order=2)\n",
    "deformation = lsetmeshadap.CalcDeformation(levelset)\n",
    "Draw(deformation, mesh, \"deformation\")\n",
    "\n",
    "mesh.SetDeformation(deformation)\n",
    "a.Assemble()\n",
    "f.Assemble()\n",
    "mesh.UnsetDeformation()\n",
    "SolveLinearSystem()\n",
    "\n",
    "\n",
    "DrawDC(lsetp1, gfu.components[0], gfu.components[1], mesh, \"u\", deformation=deformation)\n",
    "uh = IfPos(lsetp1, gfu.components[1], gfu.components[0])\n",
    "Draw(CoefficientFunction((deformation[0], deformation[1], 4*uh)), mesh, \"graph_of_u\")"
   ]
  },
  {
   "cell_type": "markdown",
   "metadata": {
    "slideshow": {
     "slide_type": "slide"
    }
   },
   "source": [
    "## XFEM spaces\n",
    "\n",
    "Instead of the CutFEM space \n",
    "$$\n",
    "V_h^\\Gamma = V_h |_{\\Omega_-^{lin}} \\oplus V_h |_{\\Omega_+^{lin}}\n",
    "$$\n",
    "we can use the (same) space with an XFEM characterization:\n",
    "$$\n",
    "V_h^\\Gamma = V_h \\oplus V_h^x\n",
    "$$\n",
    "with the space $V_h^x$ which adds the necessary enrichments. \n",
    "\n",
    "In `ngsxfem` we can also work with this XFEM spaces: \n"
   ]
  },
  {
   "cell_type": "code",
   "execution_count": null,
   "metadata": {
    "slideshow": {
     "slide_type": "-"
    }
   },
   "outputs": [],
   "source": [
    "Vh = H1(mesh, order=2, dirichlet=[1,2,3,4])\n",
    "Vhx = XFESpace(Vh,ci)\n",
    "VhG = FESpace([Vh,Vhx])"
   ]
  },
  {
   "cell_type": "markdown",
   "metadata": {
    "slideshow": {
     "slide_type": "subslide"
    }
   },
   "source": [
    "\n",
    "| original | after cut |\n",
    "|-|-|\n",
    "| ![alt](graphics/xfem1.png) | ![alt](graphics/xfem2.png) |\n",
    "\n",
    "\n",
    "* The space `Vhx` copies all shape functions from `Vh` on cut (`IF`) elements (and stores a sign (`NEG`/`POS`))\n",
    "* The sign determines on which domain the shape function should be supported (and where not)\n",
    "* Advantage: every dof is an active dof (i.e. no dummy dofs)\n",
    "* Need to express $u_+$ and $u_-$ in terms of $u_h^{std}$ and $u_h^x$:\n",
    "  * $u_- = u_h^{std} + $ `neg`($u_h^x$) and $u_+ = u_h^{std} + $ `pos`($u_h^x$)\n",
    "* `neg` and `pos` filter out the right shape functions of `Vhx`"
   ]
  },
  {
   "cell_type": "code",
   "execution_count": null,
   "metadata": {
    "slideshow": {
     "slide_type": "-"
    }
   },
   "outputs": [],
   "source": [
    "### express xfem shape functions as cutFEM shape functions:\n",
    "(u_std,u_x), (v_std, v_x) = VhG.TnT()\n",
    "\n",
    "u = [u_std + op(u_x) for op in [neg,pos]]\n",
    "v = [v_std + op(v_x) for op in [neg,pos]]"
   ]
  },
  {
   "cell_type": "markdown",
   "metadata": {
    "slideshow": {
     "slide_type": "slide"
    }
   },
   "source": [
    "## Similar examples and extensions (python demo files)\n",
    "In the source directory (or on http://www.github.com/ngsxfem/ngsxfem ) you can find (in the `py_tutorial` directory):\n",
    "* `cutfem.py` : similar to the low order case in this notebook\n",
    "* `nxfem.py` : same discretization but with a XFEM-type setup of the spaces\n",
    "* `nxfem_higher_order.py` : same discretization as in the section \"higher order accuracy\" but with XFEM-type spaces\n",
    "* `fictdom_ghostpen.py` : Fictitious domain problem (one domain only) with a ghost penalty stabilization\n",
    "* `fictdom_dg_ghostpen.py` : Fictitious domain problem in DG formulation with a ghost penalty stabilization\n",
    "* `stokesxfem.py` : Stokes interface problem with XFEM + Nitsche\n",
    "* `tracefem3D.py` or [tracefem_scalar.ipynb](tracefem_scalar.ipynb) : Trace Finite element discretization (PDE on the interface only)"
   ]
  },
  {
   "cell_type": "code",
   "execution_count": null,
   "metadata": {},
   "outputs": [],
   "source": []
  }
 ],
 "metadata": {
  "celltoolbar": "Slideshow",
  "kernelspec": {
   "display_name": "Python 3",
   "language": "python",
   "name": "python3"
  },
  "language_info": {
   "codemirror_mode": {
    "name": "ipython",
    "version": 3
   },
   "file_extension": ".py",
   "mimetype": "text/x-python",
   "name": "python",
   "nbconvert_exporter": "python",
   "pygments_lexer": "ipython3",
   "version": "3.9.1"
  }
 },
 "nbformat": 4,
 "nbformat_minor": 2
}

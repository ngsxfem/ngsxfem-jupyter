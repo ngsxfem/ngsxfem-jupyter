{
 "cells": [
  {
   "attachments": {},
   "cell_type": "markdown",
   "id": "80685a63",
   "metadata": {},
   "source": [
    "# Unfitted Mixed FEM (using $H(div)$ FE spaces)"
   ]
  },
  {
   "attachments": {},
   "cell_type": "markdown",
   "id": "a4ec015b",
   "metadata": {},
   "source": [
    "Our goal is to consider the mixed Poisson problem with Dirichlet boundary conditions in an unfitted setting: <br> \n",
    "Find $u: \\Omega \\rightarrow \\mathbb{R}^d$, $p : \\Omega \\rightarrow \\mathbb{R}$ such that\n",
    "\\begin{alignat}{2}\n",
    "u - \\nabla p &= \\phantom{-} 0 \\quad &&\\text{in } \\Omega, \\\\\n",
    "\\operatorname{div} u &= -f \\quad &&\\text{in } \\Omega, \\\\\n",
    "p &= \\phantom{-} p_D \\quad &&\\text{on } \\partial \\Omega.\n",
    "\\end{alignat}"
   ]
  },
  {
   "attachments": {},
   "cell_type": "markdown",
   "id": "bbbee49b",
   "metadata": {},
   "source": [
    "Here $\\Omega \\subset \\mathbb{R}^d$ is a bounded domain that is not parametrized by the computational mesh, but contained in a background domain $\\widetilde{\\Omega}$ such that $\\overline \\Omega \\subseteq \\widetilde{\\Omega}$ which is triangulated by a simplicial, shape regular and quasi-uniform triangulation $\\widetilde{\\mathcal{T}_h}$. <br>\n",
    "We set \n",
    "\\begin{align}\n",
    "\\mathcal{T}_h &= \\big\\{T \\in \\widetilde{\\mathcal{T}_h} : \\text{meas}(T \\cap \\Omega) > 0 \\big\\}, \\\\\n",
    "\\mathcal{T}_h^{\\text{cut}} &= \\big\\{T \\in \\widetilde{\\mathcal{T}_h} : \\text{meas}(T \\cap \\partial \\Omega) > 0 \\big\\}, \\\\\n",
    "\\mathcal{T}_h^{\\text{int}} &= \\mathcal{T}_h \\setminus \\mathcal{T}_h^{\\text{cut}}.\n",
    "\\end{align}"
   ]
  },
  {
   "attachments": {},
   "cell_type": "markdown",
   "id": "447e7abe",
   "metadata": {},
   "source": [
    "## The Method"
   ]
  },
  {
   "attachments": {},
   "cell_type": "markdown",
   "id": "30824896",
   "metadata": {},
   "source": [
    "To obtain inf-sup stable unfitted discretizations, one usually add stabilization terms like the ghost penalty stabilization. In the case of mixed problems, however, adding such terms would pollute the mass balance. Instead, we showed that one can consider the following weak formulation: <br>\n",
    "Find $(u_h,\\bar p_h) \\in \\mathbb{RT}^k(\\mathcal{T}_h) \\times \\mathbb{P}^k(\\mathcal{T}_h)$ such that \n",
    "\\begin{alignat}{2}\n",
    "a_h(u_h,v_h) + b_h(v_h,\\bar p_h) &= (v_h \\cdot n, p_D)_{\\partial \\Omega} \\qquad &&\\forall v_h \\in \\mathbb{RT}^k(\\mathcal{T}_h), \\\\\n",
    "b_h(u_h,q_h) &= - (f_h,q_h)_{L^2(\\Omega^{\\mathcal{T}})} \\qquad &&\\forall q_h \\in \\mathbb{P}^k(\\mathcal{T}_h),\n",
    "\\end{alignat}\n",
    "where \n",
    "\\begin{align}\n",
    "a_h(u_h,v_h) &:= (u_h,v_h)_{L^2(\\Omega)} + \\gamma_u j_h (u_h,v_h), \\\\\n",
    "b_h(v_h,p_h) &:= (\\operatorname{div} v_h,p_h)_{L^2(\\Omega^{\\mathcal{T}})}.\n",
    "\\end{align}"
   ]
  },
  {
   "attachments": {},
   "cell_type": "markdown",
   "id": "1052d5cb",
   "metadata": {},
   "source": [
    "The following code imports the basic functionality of netgen, ngsolve and ngsxfem. Afterwards, we set some general parameters for this notebook."
   ]
  },
  {
   "cell_type": "code",
   "execution_count": null,
   "id": "99a55492",
   "metadata": {},
   "outputs": [],
   "source": [
    "#basic imports\n",
    "from netgen.geom2d import SplineGeometry\n",
    "from ngsolve import *\n",
    "from ngsolve.internal import *\n",
    "from xfem import *\n",
    "from xfem.lsetcurv import *\n",
    "#from ngsolve.la import EigenValues_Preconditioner #where do i need this?"
   ]
  },
  {
   "cell_type": "code",
   "execution_count": null,
   "id": "621ee4d3",
   "metadata": {},
   "outputs": [],
   "source": [
    "#parameters\n",
    "ngsglobals.msg_level = 2\n",
    "quad_mesh = False\n",
    "maxh = 0.2\n",
    "order = 2\n",
    "geom_order=order+1\n",
    "gamma_stab = 0"
   ]
  },
  {
   "attachments": {},
   "cell_type": "markdown",
   "id": "6d4d9182",
   "metadata": {},
   "source": [
    "Now, the unfitted geometry is implemented. We consider a ring geometry that is contained inside the square $[-1,1]^2$ with inner radius $r_1 = 0.25$ and outer radius $r_2 = 0.75$. Then, the geometry is described by the following signed distance function <br> <br>\n",
    "\\begin{equation}\n",
    "\\Phi(x) = \\Big\\vert \\sqrt{x_1^2 + x_2^2} - \\frac{1}{2}(r_1+r_2) \\Big\\vert - \\frac{r_2-r_1}{2}.\n",
    "\\end{equation}"
   ]
  },
  {
   "cell_type": "code",
   "execution_count": null,
   "id": "90b5384f",
   "metadata": {},
   "outputs": [],
   "source": [
    "square = SplineGeometry()\n",
    "square.AddRectangle((-1, -1), (1, 1), bc=1)\n",
    "ngmesh = square.GenerateMesh(maxh=maxh, quad_dominated=quad_mesh)\n",
    "mesh = Mesh(ngmesh)\n",
    "\n",
    "r2 = 3 / 4  # outer radius\n",
    "r1 = 1 / 4  # inner radius\n",
    "rc = (r1 + r2) / 2.0\n",
    "rr = (r2 - r1) / 2.0\n",
    "r = sqrt(x**2 + y**2)\n",
    "levelset = IfPos(r - rc, r - rc - rr, rc - r - rr)\n",
    "\n",
    "#DrawDC(levelset,-1.0,2.0,mesh,\"x\") #from xfem tutorials, webgui error local...\n",
    "\n",
    "\n",
    "lsetmeshadap = LevelSetMeshAdaptation(mesh, order=geom_order, threshold=0.1,discontinuous_qn=True)\n",
    "deformation = lsetmeshadap.CalcDeformation(levelset)\n",
    "\n",
    "lsetp1 = lsetmeshadap.lset_p1\n",
    "\n",
    "ci = CutInfo(mesh, lsetp1)\n",
    "hasneg = ci.GetElementsOfType(HASNEG)\n",
    "pos = ci.GetElementsOfType(POS)\n",
    "hasif = ci.GetElementsOfType(IF)\n",
    "hasany = ci.GetElementsOfType(ANY)\n",
    "\n",
    "# facets used for stabilization:\n",
    "ba_facets = GetFacetsWithNeighborTypes(mesh, a=hasneg, b=hasif)\n",
    "\n",
    "EA = ElementAggregation(mesh)\n",
    "EA.Update(ci.GetElementsOfType(NEG), hasif)\n",
    "dX = dCut(lsetp1, NEG, definedonelements=hasneg, deformation=deformation)\n",
    "\n",
    "cut_facets = GetFacetsWithNeighborTypes(mesh,a=hasif,b=hasif,use_and=True)"
   ]
  },
  {
   "attachments": {},
   "cell_type": "markdown",
   "id": "cb15b927",
   "metadata": {},
   "source": [
    "<b> to do: take a look at the ngsxfem tutorials to plot this... </b> <br>\n",
    "<b> could include pictures of the patches, see examples ... </b>"
   ]
  },
  {
   "attachments": {},
   "cell_type": "markdown",
   "id": "1b63cbf9",
   "metadata": {},
   "source": [
    "## Solving the problem "
   ]
  },
  {
   "attachments": {},
   "cell_type": "markdown",
   "id": "f43ebe07",
   "metadata": {},
   "source": [
    "We consider the exact solution $p = \\sin(x)$ and derive $u = \\nabla p$ and $f = - \\Delta p$. Then, we approximate $f$ by $f_h$ with ..."
   ]
  },
  {
   "cell_type": "code",
   "execution_count": null,
   "id": "0fb8b2a2",
   "metadata": {},
   "outputs": [],
   "source": [
    "#exact solutions and other stuff here...\n",
    "p_exact = sin(x)\n",
    "coeff_f = - (p_exact.Diff(x).Diff(x) + p_exact.Diff(y).Diff(y)).Compile()\n",
    "u_exact = CF((p_exact.Diff(x),p_exact.Diff(y)))\n",
    "Pcoeff_f = GridFunction(L2(mesh,order=order))\n",
    "Pcoeff_f = coeff_f"
   ]
  },
  {
   "cell_type": "code",
   "execution_count": null,
   "id": "d8c367a9",
   "metadata": {},
   "outputs": [],
   "source": [
    "#FESpaces\n",
    "Shsbase = HDiv(mesh, order=order, dirichlet=[], dgjumps=True, RT=True, discontinuous=False)\n",
    "Vhbase = L2(mesh, order=order, dirichlet=[], dgjumps=True)\n",
    "Vh = Restrict(Vhbase, hasneg)\n",
    "Shs = Restrict(Shsbase, hasneg)\n",
    "Wh = Shs*Vh\n",
    "\n",
    "gfw = GridFunction(Wh)\n",
    "gfu, gfpT = gfw.components[0:2]\n",
    "(uh,pT), (vh,qT) = Wh.TnT()\n",
    "\n",
    "\n",
    "h = specialcf.mesh_size\n",
    "n = Normalize(grad(lsetp1))\n",
    "nF= specialcf.normal(mesh.dim)\n",
    "\n",
    "# integration domains:\n",
    "dxbar = dx(definedonelements=ci.GetElementsOfType(HASNEG), deformation=deformation)\n",
    "dxinner = dx(definedonelements=ci.GetElementsOfType(NEG), deformation=deformation)\n",
    "dxcut = dx(definedonelements=ci.GetElementsOfType(IF), deformation=deformation)\n",
    "ds = dCut(lsetp1, IF, definedonelements=hasif, deformation=deformation)\n",
    "deb = dx(definedonelements=hasany, deformation=deformation, element_boundary=True)\n",
    "\n",
    "if gamma_stab > 0:\n",
    "    #Integration domain for ghost penalty\n",
    "    dP = dFacetPatch(definedonelements=EA.patch_interior_facets, deformation=deformation)\n",
    "\n",
    "if gamma_stab > 0:\n",
    "    facet_restriction = BitArray(mesh.nfacet)\n",
    "    facet_restriction[:] = EA.patch_interior_facets\n",
    "    #Draw(BitArrayCF(GetElementsWithNeighborFacets(mesh,facet_restriction)), mesh, \"facet_restriction\")\n",
    "    #input(\"facet_restriction\")\n",
    "    a = RestrictedBilinearForm(Wh, element_restriction=hasneg,\n",
    "                               facet_restriction=facet_restriction,\n",
    "                               symmetric=True)\n",
    "else:\n",
    "    a = BilinearForm(Wh, symmetric=True,condense=False)\n",
    "\n",
    "    \n",
    "# Mixed form diffusion term\n",
    "a += uh*vh * dX\n",
    "a += (div(uh) * qT + div(vh) * pT) * dxbar\n",
    "if gamma_stab > 0:\n",
    "    a += gamma_stab * (uh - uh.Other()) * (vh - vh.Other()) * dP\n",
    "\n",
    "# R.h.s. term:\n",
    "f = LinearForm(Wh)\n",
    "f += -Pcoeff_f * qT * dxbar\n",
    "f += p_exact * vh * n * ds\n",
    "\n",
    "\n",
    "# Assemble system\n",
    "a.Assemble()\n",
    "f.Assemble()\n",
    "\n",
    "rhs = f.vec.CreateVector()\n",
    "rhs.data = f.vec\n",
    "# Solve linear system\n",
    "gfw.vec.data = a.mat.Inverse(Wh.FreeDofs(),inverse=\"umfpack\") * f.vec\n",
    "\n",
    "p_inner_l2error = sqrt(Integrate((gfpT - p_exact)**2*dxinner, mesh))\n",
    "ul2error = sqrt(Integrate((gfu - u_exact)**2*dX.order(2*order+3), mesh))\n",
    "ul2error_bar = sqrt(Integrate((gfu - u_exact)**2*dxbar, mesh))"
   ]
  },
  {
   "attachments": {},
   "cell_type": "markdown",
   "id": "306436f8",
   "metadata": {},
   "source": [
    "## Patchwise approximation of $f$"
   ]
  },
  {
   "attachments": {},
   "cell_type": "markdown",
   "id": "165bcf11",
   "metadata": {},
   "source": [
    "Instead of projecting onto the FE Space, we can also use the ghost penalty stabilization to construct an approximation $f_h$ of $f$. For $\\gamma_f > 0$, we find $f_h \\in \\mathbb{P}^{k_f}(\\mathcal{T}_h)$, $k_f \\in \\mathbb{N}_0$, by solving \n",
    "\\begin{equation}\n",
    "(f_h,q_h)_{L^2(\\Omega)} + \\gamma_f j_h (f_h,q_h) = (f,q_h)_{L^2(\\Omega)} \\qquad \\forall q_h \\in \\mathbb{P}^{k_f}(\\mathcal{T}_h).\n",
    "\\end{equation}"
   ]
  },
  {
   "attachments": {},
   "cell_type": "markdown",
   "id": "59deceb9",
   "metadata": {},
   "source": [
    "The following code implements this approximation using patches. "
   ]
  },
  {
   "cell_type": "code",
   "execution_count": null,
   "id": "7aea8d87",
   "metadata": {},
   "outputs": [],
   "source": [
    "kf = order\n",
    "gff = GridFunction(L2(mesh,order=kf))\n",
    "fh, wh = gff.space.TnT()\n",
    "lhs_integrals = fh * wh * dX + 0.01*(fh-fh.Other())*(wh-wh.Other()) * dFacetPatch(deformation=deformation)\n",
    "rhs_integrals = coeff_f * wh * dX\n",
    "EA2 = ElementAggregation(mesh)\n",
    "EA2.Update(ci.GetElementsOfType(NEG), ci.GetElementsOfType(IF))\n",
    "gff.vec.data = PatchwiseSolve(EA2,gff.space,lhs_integrals,rhs_integrals, heapsize=100000000)\n",
    "Pcoeff_f = gff"
   ]
  },
  {
   "attachments": {},
   "cell_type": "markdown",
   "id": "6ea9edab",
   "metadata": {},
   "source": [
    "## Elementwise Post-processing"
   ]
  },
  {
   "attachments": {},
   "cell_type": "markdown",
   "id": "f619fc9a",
   "metadata": {},
   "source": [
    "By making use of the relation $u=\\nabla p$, we can repair the inconsistencies of the approximation of $p$ and achieve higher order convergence. <br>\n",
    "For each element $T \\in \\mathcal{T}_h$, we want to find $p_h^\\ast \\in \\mathcal{P}^{k+1}(T)$ such that \n",
    "\\begin{alignat}{2}\n",
    "(\\nabla p_h^\\ast, \\nabla q_h^\\ast)_T &= (u_h, \\nabla q_h^\\ast)_T \\qquad &&\\forall q_h^\\ast \\in \\mathcal{P}^{k+1}(T)\\\\\n",
    "(p_h^\\ast,1)_T &= (\\bar p_h,1)_T \\qquad &&\\text{if } T \\in \\mathcal{T}_h^{\\text{int}}\\\\\n",
    "(p_h^\\ast,1)_{T \\cap \\partial \\Omega} &= (p_D,1)_{T \\cap \\partial \\Omega} \\qquad &&\\text{if } T \\in \\mathcal{T}_h^{\\text{cut}}\\\\\n",
    "\\end{alignat}"
   ]
  },
  {
   "attachments": {},
   "cell_type": "markdown",
   "id": "1658b38c",
   "metadata": {},
   "source": [
    "<div align='center'>\n",
    "    <img src=\"graphics/elpp.png\" width=300px height=300px style=\"border:none\">\n",
    "</div>"
   ]
  },
  {
   "cell_type": "code",
   "execution_count": null,
   "id": "779f45fd",
   "metadata": {},
   "outputs": [],
   "source": [
    "#FE Spaces for el-wise post-processing\n",
    "Vhpbase = L2(mesh, order=order+1, dgjumps=False, dirichlet=[]) # order+1\n",
    "Lhbase = L2(mesh, order=0, dgjumps=False, dirichlet=[])\n",
    "\n",
    "Vhp = Restrict(Vhpbase, hasneg)\n",
    "Lh = Restrict(Lhbase, hasneg)\n",
    "Zh = Vhp * Lh\n",
    "\n",
    "gflh = GridFunction(Lh)\n",
    "\n",
    "gfz = GridFunction(Zh)\n",
    "gfps, gflam = gfz.components\n",
    "\n",
    "#Test- & Trialfunction\n",
    "(ps,lam),(vs,mu) = Zh.TnT()\n",
    "\n",
    "#Bilinear Form\n",
    "p = RestrictedBilinearForm(Zh, symmetric=False)\n",
    "p += grad(ps) * grad(vs) * dxbar\n",
    "p += (lam * vs + mu * ps) * dxinner\n",
    "p += (lam * vs + mu * ps) * ds\n",
    "\n",
    "# R.h.s. term:\n",
    "pf = LinearForm(Zh)\n",
    "pf += gfu * grad(vs) * dxbar\n",
    "\n",
    "pf += p_exact * mu * ds\n",
    "pf += gfpT * mu * dxinner\n",
    "\n",
    "#Assembly\n",
    "p.Assemble()\n",
    "pf.Assemble()\n",
    "\n",
    "#Solving the system\n",
    "gfz.vec.data = p.mat.Inverse(Zh.FreeDofs(),inverse=\"umfpack\") * pf.vec\n",
    "\n",
    "#For visualization:\n",
    "gflh.Set(p_exact, definedonelements=ci.GetElementsOfType(HASNEG))\n",
    "gflam.Set(gfps, definedonelements=ci.GetElementsOfType(HASNEG))"
   ]
  },
  {
   "cell_type": "code",
   "execution_count": null,
   "id": "eceef521",
   "metadata": {},
   "outputs": [],
   "source": [
    "psl2error = sqrt(Integrate((gfps - p_exact)**2*dX.order(2*order+3), mesh))\n",
    "psl2error"
   ]
  },
  {
   "attachments": {},
   "cell_type": "markdown",
   "id": "b169ca24",
   "metadata": {},
   "source": [
    "## Patchwise Post-processing"
   ]
  },
  {
   "attachments": {},
   "cell_type": "markdown",
   "id": "91f4e457",
   "metadata": {},
   "source": [
    "On each patch, we want to find $p_h^\\ast \\in \\mathbb{P}^{k+1}(\\mathcal{T}_\\omega)$ so that \n",
    "\\begin{align}\n",
    "(\\nabla p_h^\\ast, \\nabla q_h^\\ast)_{\\Omega \\cap \\omega} + j_h^\\omega(p_h^\\ast,q_h^\\ast) &= (u_h,\\nabla q_h^\\ast)_{\\Omega \\cap \\omega} \\qquad \\forall q_h^\\ast \\in \\mathbb{P}^{k+1}(\\mathcal{T}_\\omega) \\\\\n",
    "(p_h^\\ast,1)_{\\omega \\cap \\Omega^{\\text{int}}} &= (\\bar p_h,1)_{\\omega \\cap \\Omega^{\\text{int}}}.\n",
    "\\end{align}"
   ]
  },
  {
   "cell_type": "code",
   "execution_count": null,
   "id": "c6f7b35f",
   "metadata": {},
   "outputs": [],
   "source": [
    "EA = ElementAggregation(mesh)\n",
    "EA.Update(ci.GetElementsOfType(NEG), ci.GetElementsOfType(IF))\n",
    "\n",
    "#Integration domain for ghost penalty\n",
    "dP = dFacetPatch(definedonelements=EA.patch_interior_facets, deformation=deformation)\n",
    "\n",
    "\n",
    "#FE Spaces for el-wise post-processing\n",
    "Vhpbase = L2(mesh, order=order+1, dgjumps=True, dirichlet=[]) # order+1\n",
    "Lhbase = L2(mesh, order=0, dgjumps=True, dirichlet=[])\n",
    "\n",
    "Vhp = Restrict(Vhpbase, hasneg)\n",
    "Lh = Restrict(Lhbase, ci.GetElementsOfType(NEG))\n",
    "Zh = Vhp * Lh# FESpace([Vhp,Lh],dg_jumps=True)\n",
    "\n",
    "gflh = GridFunction(Lh)\n",
    "\n",
    "gfz = GridFunction(Zh)\n",
    "gfps, gflam = gfz.components\n",
    "\n",
    "#Test- & Trialfunction\n",
    "(ps,lam),(vs,mu) = Zh.TnT()\n",
    "\n",
    "lhs_integrals = [grad(ps) * grad(vs) * dX,\n",
    "                 (lam * vs + mu * ps) * dxinner,\n",
    "                 1/h**2 * (ps - ps.Other()) * (vs - vs.Other()) * dP]\n",
    "\n",
    "rhs_integrals = [gfu * grad(vs) * dX,\n",
    "                 gfpT * mu * dxinner]\n",
    "\n",
    "gfz.vec.data = PatchwiseSolve(EA,Zh,sum(lhs_integrals),sum(rhs_integrals),heapsize=900000000)\n",
    "#For visualization\n",
    "gflh.Set(p_exact, definedonelements=ci.GetElementsOfType(HASNEG))\n",
    "gflam.Set(gfps, definedonelements=ci.GetElementsOfType(HASNEG))\n",
    "\n",
    "psl2error = sqrt(Integrate((gfps - p_exact)**2*dX.order(2*order+3), mesh))"
   ]
  },
  {
   "cell_type": "code",
   "execution_count": null,
   "id": "74eeb74d",
   "metadata": {},
   "outputs": [],
   "source": [
    "psl2error"
   ]
  },
  {
   "cell_type": "code",
   "execution_count": null,
   "id": "6021cc52",
   "metadata": {},
   "outputs": [],
   "source": []
  }
 ],
 "metadata": {
  "kernelspec": {
   "display_name": "Python 3",
   "language": "python",
   "name": "python3"
  },
  "language_info": {
   "codemirror_mode": {
    "name": "ipython",
    "version": 3
   },
   "file_extension": ".py",
   "mimetype": "text/x-python",
   "name": "python",
   "nbconvert_exporter": "python",
   "pygments_lexer": "ipython3",
   "version": "3.10.10"
  }
 },
 "nbformat": 4,
 "nbformat_minor": 5
}

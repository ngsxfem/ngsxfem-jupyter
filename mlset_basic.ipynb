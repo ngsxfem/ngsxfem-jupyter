{
 "cells": [
  {
   "cell_type": "markdown",
   "metadata": {},
   "source": [
    "# Integration over multiple level sets\n",
    "\n",
    "\n",
    "The `ngsxfem` add-on library is capable of integrating over domians defined by muliple level set functions.\n",
    "\n",
    "Previously, our doain of interest was described by a sige level set function, i.e., for a continuous level set function $\\phi$, we considered the domain $\\Omega := \\{ \\phi < 0 \\}$.\n",
    "\n",
    "Now, let $\\{\\phi_i \\}$ be a set of level set functions. We define the domain of interest by the intersection $\\Omega := \\bigcap_i \\{\\phi_i < 0\\}$.\n",
    "\n",
    "\n",
    "As an example, we shall consider an isosceles triangle, described by the level set functions $\\phi_1 = y - 1$, $\\phi_2 = 2x - y$ and $\\phi_3 = -2x - y$. \n",
    "\n",
    "The libraries are importes as usual:"
   ]
  },
  {
   "cell_type": "code",
   "execution_count": null,
   "metadata": {},
   "outputs": [],
   "source": [
    "# Visualisation\n",
    "import netgen.gui\n",
    "\n",
    "# Import geometry features, NGSolve and xfem\n",
    "from netgen.geom2d import SplineGeometry\n",
    "from ngsolve import *\n",
    "from xfem import *\n",
    "\n",
    "# Visualisation properties\n",
    "from ngsolve.internal import *"
   ]
  },
  {
   "cell_type": "markdown",
   "metadata": {},
   "source": [
    "We generate a background mesh"
   ]
  },
  {
   "cell_type": "code",
   "execution_count": null,
   "metadata": {},
   "outputs": [],
   "source": [
    "geo = SplineGeometry()\n",
    "geo.AddRectangle([-1, -0.5], [1, 1.5], bc=1)\n",
    "mesh = Mesh (geo.GenerateMesh(maxh=0.7, quad_dominated=False))"
   ]
  },
  {
   "cell_type": "markdown",
   "metadata": {},
   "source": [
    "As in the single level set setting, `ngsxfem` can only handle piecewise linear level set functions. We thefore interpolate each smooth level set into an P1 GridFunction $\\phi^\\ast_i \\in \\mathcal{P}^1(T), T \\subset \\Omega$."
   ]
  },
  {
   "cell_type": "code",
   "execution_count": null,
   "metadata": {},
   "outputs": [],
   "source": [
    "level_sets = (y-1, 2*x-y, -2*x-y)\n",
    "nr_ls = len(level_sets)\n",
    "level_sets_p1 = tuple(GridFunction(H1(mesh, order=1)) for i in range(nr_ls))\n",
    "\n",
    "lset_mult = CoefficientFunction(1)\n",
    "for i, lset_p1 in enumerate(level_sets_p1):\n",
    "    InterpolateToP1(level_sets[i], lset_p1)\n",
    "    Draw(lset_p1, mesh, \"lset_p1_{}\".format(i))\n",
    "    lset_mult *= IfPos(lset_p1, 0, 1)\n",
    "\n",
    "Draw(lset_mult, mesh, \"lset_mult\", sd=7)\n",
    "\n",
    "visoptions.mminval = 0.0\n",
    "visoptions.mmaxval = 0.0\n",
    "visoptions.deformation = 0\n",
    "visoptions.autoscale = 0"
   ]
  },
  {
   "cell_type": "markdown",
   "metadata": {},
   "source": [
    "Note: The fuzzy edges of the triangle in `lset_mult` is simply a graphical representation issue.\n",
    "\n",
    "To integrate, we use the `Integrate` function as before, the difference being in the `levelset_domain` dictionary which we pass to the function. The `levelset_domain` dictionary must contain the two necessary keys `levelset` and `domain_type`. \n",
    "* The entry for `levelset` must be a `tuple` of the P1-GridFunction level set functions.\n",
    "* The entry for `domain_type`  describes the domain with respect to each level set. A its most basic form, it is either a `tuple({NEG,POS,IF})` which describes the domain whith respect each level set function or a `list(tuple({NEG,POS,IF}))` of such tuples, if the domain is described via mulple regions."
   ]
  },
  {
   "cell_type": "code",
   "execution_count": null,
   "metadata": {},
   "outputs": [],
   "source": [
    "area = Integrate(levelset_domain={\"levelset\": level_sets_p1, \"domain_type\": (NEG, NEG, NEG)},\n",
    "                     cf=1, mesh=mesh, order=0)\n",
    "error = abs(area - 0.5)\n",
    "print(\"Result of the integration: {}\".format(area))\n",
    "print(\"Error of the integration: {:5.3e}\".format(error))"
   ]
  },
  {
   "cell_type": "markdown",
   "metadata": {},
   "source": [
    "Since the smooth level set functions are linear, the integration is exact upto mashine precision."
   ]
  },
  {
   "cell_type": "markdown",
   "metadata": {},
   "source": [
    "### Integrating over objects of higher codimension\n",
    "\n",
    "We can also integrate over subdomains of higher codimensions. For example, the lenghths of the sides of the triangle can be computed as"
   ]
  },
  {
   "cell_type": "code",
   "execution_count": null,
   "metadata": {},
   "outputs": [],
   "source": [
    "len_top = Integrate(levelset_domain={\"levelset\": level_sets_p1, \"domain_type\": (IF, NEG, NEG)},\n",
    "                     cf=1, mesh=mesh, order=0)\n",
    "print(\"Top side-length of the triangle\")\n",
    "print(\"Result of the integration: {}\".format(len_top))\n",
    "print(\"Error of the integration: {:5.3e}\".format(abs(len_top - 1)))\n",
    "\n",
    "len_right = Integrate(levelset_domain={\"levelset\": level_sets_p1, \"domain_type\": (NEG, IF, NEG)},\n",
    "                      cf=1, mesh=mesh, order=0)\n",
    "print(\"\\nRight side-length of the triangle\")\n",
    "print(\"Result of the integration: {}\".format(len_right))\n",
    "print(\"Error of the integration: {:5.3e}\".format(abs(len_right - sqrt(5)/2)))\n",
    "\n",
    "len_left = Integrate(levelset_domain={\"levelset\": level_sets_p1, \"domain_type\": (NEG, NEG, IF)},\n",
    "                     cf=1, mesh=mesh, order=0)\n",
    "print(\"\\nLeft side-length of the triangle\")\n",
    "print(\"Result of the integration: {}\".format(len_left))\n",
    "print(\"Error of the integration: {:5.3e}\".format(abs(len_left - sqrt(5)/2)))\n"
   ]
  },
  {
   "cell_type": "markdown",
   "metadata": {},
   "source": [
    "Top compute the perimeter of the triangle in one go, we can pass a list of each side to `Integrate` via the `domain_type` entru in the `levelset_domain` dictionary: "
   ]
  },
  {
   "cell_type": "code",
   "execution_count": null,
   "metadata": {},
   "outputs": [],
   "source": [
    "len_perimeter = Integrate(levelset_domain={\"levelset\": level_sets_p1, \n",
    "                                           \"domain_type\": [(IF, NEG, NEG), (NEG, IF, NEG), (NEG, NEG, IF)]},\n",
    "                          cf=1, mesh=mesh, order=0)\n",
    "print(\"Perimeter of the triangle\")\n",
    "print(\"Result of the integration: {}\".format(len_perimeter))\n",
    "print(\"Error of the integration: {:5.3e}\".format(abs(len_perimeter - 1 - sqrt(5))))"
   ]
  },
  {
   "cell_type": "markdown",
   "metadata": {},
   "source": [
    "Similarly, we can also perform point evaluations at the intersections of the level sets"
   ]
  },
  {
   "cell_type": "code",
   "execution_count": null,
   "metadata": {},
   "outputs": [],
   "source": [
    "point_val = Integrate(levelset_domain={\"levelset\" : level_sets_p1, \"domain_type\": (IF, IF, NEG)},\n",
    "                      cf=x**2 + y**2, mesh=mesh, order=0)\n",
    "\n",
    "print(\"Result of the integration: {}\".format(point_val))\n",
    "print(\"Error of the integration: {:5.3e}\".format(abs(point_val - 1.25)))"
   ]
  },
  {
   "cell_type": "markdown",
   "metadata": {},
   "source": [
    "## Convinience Layer\n",
    "\n",
    "In order to handle more complex domains, described by multiple level sets, we provide a convinience layer in the module `xfem.mlset`. In this module provides a container class `DomainTypeArray`. A full description of this can be cound in the docstring:"
   ]
  },
  {
   "cell_type": "code",
   "execution_count": null,
   "metadata": {},
   "outputs": [],
   "source": [
    "from xfem.mlset import *\n",
    "\n",
    "help(DomainTypeArray)"
   ]
  },
  {
   "cell_type": "markdown",
   "metadata": {},
   "source": [
    "A `DomainTypeArray` is initialised either with a `tuple({NEG,POS,IF,ANY})` or with a list of such tuples. While `Integrate` does work with `COMBINED_DOMAIN_TYPES`, the `DomainTypeArray` class accepts `ANY` as an entry, and expands this internaly to a list of tuples containing only `{IF, POS, NEG}` which then can be passed on to `Integrate`."
   ]
  },
  {
   "cell_type": "code",
   "execution_count": null,
   "metadata": {},
   "outputs": [],
   "source": [
    "triangle = DomainTypeArray((NEG, NEG, NEG))"
   ]
  },
  {
   "cell_type": "markdown",
   "metadata": {},
   "source": [
    "The list of regions contained in this can then be acessed via the `as_list` attribute"
   ]
  },
  {
   "cell_type": "code",
   "execution_count": null,
   "metadata": {},
   "outputs": [],
   "source": [
    "triangle.as_list"
   ]
  },
  {
   "cell_type": "markdown",
   "metadata": {},
   "source": [
    "### Geometrical features"
   ]
  },
  {
   "cell_type": "markdown",
   "metadata": {},
   "source": [
    "The main feature of this class, is that we can treat it as a geometrical sets and can perform logical operations with them. Available operators are:\n",
    "\n",
    "Operator | Operation\n",
    "--: |:--\n",
    "`~` | Returns a `DomainTypeArray` describing the region **NOT** part of the original region.\n",
    "`&` | Returns a `DomainTypeArray` describing the region defined by the **INTERSECTION** of two regions.\n",
    "` \\| ` | Returns a `DomainTypeArray` describing the region defined by the **UNION** of two regions.\n",
    "\n",
    "Note: These operations are only possible for `DomainTypeArrays` describing regions of the same codimension and described by the same number of level sets. They also preserve the codimension. The operators `&=` and `|=` are also available."
   ]
  },
  {
   "cell_type": "code",
   "execution_count": null,
   "metadata": {},
   "outputs": [],
   "source": [
    "outside_triangle = ~triangle\n",
    "outside_triangle.as_list"
   ]
  },
  {
   "cell_type": "markdown",
   "metadata": {},
   "source": [
    "These operations take place on a purel DOMAIN_TYPE level and do not take the level sets into account. So in the case of the above triangle, the domain `(POS, POS, POS)` is empty."
   ]
  },
  {
   "cell_type": "markdown",
   "metadata": {},
   "source": [
    "We can also generate the boundary of a domian with the `.Boundary()` method which is again a `DomianTypeArray`"
   ]
  },
  {
   "cell_type": "code",
   "execution_count": null,
   "metadata": {},
   "outputs": [],
   "source": [
    "boundary = triangle.Boundary()\n",
    "boundary.as_list"
   ]
  },
  {
   "cell_type": "markdown",
   "metadata": {},
   "source": [
    "And the corners, since each tuple in a DomainTypeArray is treated as a separate region."
   ]
  },
  {
   "cell_type": "code",
   "execution_count": null,
   "metadata": {},
   "outputs": [],
   "source": [
    "corners = boundary.Boundary()\n",
    "corners.as_list"
   ]
  },
  {
   "cell_type": "markdown",
   "metadata": {},
   "source": [
    "### Integrating using `DomainTypeArrays`\n",
    "\n",
    "In order to use DomainTypeArrays for integration purposes, the `domain_type` entry in the `levelset_domain` dictionary can also be a `DomainTypeArray`:"
   ]
  },
  {
   "cell_type": "code",
   "execution_count": null,
   "metadata": {},
   "outputs": [],
   "source": [
    "len_perimeter = Integrate(levelset_domain={\"levelset\": level_sets_p1, \"domain_type\": boundary},\n",
    "                          cf=1, mesh=mesh, order=0)\n",
    "print(\"Perimeter of the triangle using DomanTypeArray\")\n",
    "print(\"Result of the integration: {}\".format(len_perimeter))\n",
    "print(\"Error of the integration: {:5.3e}\".format(abs(len_perimeter - 1 - sqrt(5))))"
   ]
  },
  {
   "cell_type": "markdown",
   "metadata": {},
   "source": [
    "### Visualisation Tools\n",
    "\n",
    "To help visualise the regions descibed by a DomainTypeArray, we can use the method `Indicator` (for codim=0) and `IndicatorSmoothed` (for codim>0). \n",
    "\n",
    "`DomainTypeArray.Indicator(level_sets)` returns a coefficient function which has the value 1 inside the region contained in the DomainTypeArray and 0 else where. Note: The edges can be fussy at the edges, this is again simply a representation issue."
   ]
  },
  {
   "cell_type": "code",
   "execution_count": null,
   "metadata": {},
   "outputs": [],
   "source": [
    "Draw(outside_triangle.Indicator(level_sets_p1), mesh, \"outside_indicator\", sd=6)"
   ]
  },
  {
   "cell_type": "markdown",
   "metadata": {},
   "source": [
    "Similarly, `DomainTypeArray.IndicatorSmoothed(level_sets, eps)` returns a CoefficientFunction which has the value 1 in the `eps`-region around the interface described in `DomainTypeArray`. This assumes, that each level set function as approximately a distance function areound the interface:"
   ]
  },
  {
   "cell_type": "code",
   "execution_count": null,
   "metadata": {},
   "outputs": [],
   "source": [
    "Draw(boundary.IndicatorSmoothed(level_sets_p1, 0.03), mesh, \"boundary_indicator\", sd=6)"
   ]
  },
  {
   "cell_type": "code",
   "execution_count": null,
   "metadata": {},
   "outputs": [],
   "source": [
    "Draw(corners.IndicatorSmoothed(level_sets_p1, 0.03), mesh, \"boundary_indicator\", sd=6)"
   ]
  },
  {
   "cell_type": "code",
   "execution_count": null,
   "metadata": {},
   "outputs": [],
   "source": []
  }
 ],
 "metadata": {
  "kernelspec": {
   "display_name": "Python 3",
   "language": "python",
   "name": "python3"
  },
  "language_info": {
   "codemirror_mode": {
    "name": "ipython",
    "version": 3
   },
   "file_extension": ".py",
   "mimetype": "text/x-python",
   "name": "python",
   "nbconvert_exporter": "python",
   "pygments_lexer": "ipython3",
   "version": "3.8.1"
  }
 },
 "nbformat": 4,
 "nbformat_minor": 2
}

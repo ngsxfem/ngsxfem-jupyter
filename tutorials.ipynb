{
 "cells": [
  {
   "cell_type": "markdown",
   "metadata": {
    "slideshow": {
     "slide_type": "slide"
    }
   },
   "source": [
    "Interactive Tutorial to ngsxfem\n",
    "====\n",
    "\n",
    "This material provides a basic introduction to the `ngsxfem` library for `NGSolve`. "
   ]
  },
  {
   "cell_type": "markdown",
   "metadata": {
    "collapsed": true,
    "slideshow": {
     "slide_type": "subslide"
    }
   },
   "source": [
    "\n",
    "\n",
    "### 1. Basic functionality\n",
    "* [basics.ipynb](basics.ipynb) Helper functions (cut position / active mesh). This units treats\n",
    "  * Level set geometries (P1)\n",
    "  * How to mark active elements in level set geometries\n",
    "  * How to mark active facets\n",
    "  * How to restrict `FESpace`s and `BilinearForm`s\n",
    "* [intlset.ipynb](intlset.ipynb) Integration on level set domains (linear cut approximation, mesh transformation)\n",
    "  * Cut Differential symbols\n",
    "\n",
    "### 2. Stationary PDEs\n",
    "* [cutfem.ipynb](cutfem.ipynb) Simple unfitted FEM discretizations\n",
    "  * Setting up Cut \n",
    "\n",
    "### 3. Moving domain problems\n",
    "* [spacetime.ipynb](spacetime.ipynb) Space time discretization of a moving domain problem\n"
   ]
  },
  {
   "cell_type": "markdown",
   "metadata": {
    "slideshow": {
     "slide_type": "subslide"
    }
   },
   "source": [
    "### 4. Surface PDEs\n",
    "* [tracefem_scalar.ipynb](tracefem_scalar.ipynb) TraceFEM for a scalar PDE on a stationary unfitted surface\n",
    "* [tracefem_vector.ipynb](tracefem_vector.ipynb) TraceFEM for a vectorial PDE on a stationary unfitted surface (Thomas Jankuhn)\n",
    "\n",
    "### 5. Preconditioning\n",
    "* [cutmg.ipynb](cutmg.ipynb) Multigrid Preconditioning for unfitted FEM discretizations (Thomas Ludescher)\n",
    "\n",
    "### 6. Multiple level sets\n",
    "* [mlset_basic.ipynb](mlset_basic.ipynb) Basic functionality for integrating over domains defined via multiple level set functions\n",
    "* [mlset_pde.ipynb](mlset_pde.ipynb) Solving a Poisson problem on a domain defined by multiple level sets\n",
    "\n",
    "This material was created by \n",
    "* Fabian Heimann, Christoph Lehrenfeld, Yimin Lou, Janosch Preuss (Univ. Göttingen), [Section 1 to 3]\n",
    "* Thomas Jankuhn and Thomas Ludescher (RWTH Aachen University)\n",
    "* and Henry von Wahl (OvGU Magdeburg), [Section 6].\n",
    "\n",
    "Most of the material is from June 2018 with updates in July 2019 and April 2020."
   ]
  }
 ],
 "metadata": {
  "kernelspec": {
   "display_name": "Python 3",
   "language": "python",
   "name": "python3"
  },
  "language_info": {
   "codemirror_mode": {
    "name": "ipython",
    "version": 3
   },
   "file_extension": ".py",
   "mimetype": "text/x-python",
   "name": "python",
   "nbconvert_exporter": "python",
   "pygments_lexer": "ipython3",
   "version": "3.9.1"
  }
 },
 "nbformat": 4,
 "nbformat_minor": 2
}
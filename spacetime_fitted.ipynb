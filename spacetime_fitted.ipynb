{
 "cells": [
  {
   "cell_type": "markdown",
   "metadata": {},
   "source": [
    "In this tutorial we make use of `ipywidgets`. You can (in the ideal case) simply install them with executing the next cell. You will however need to restart jupyter afterwards."
   ]
  },
  {
   "cell_type": "code",
   "execution_count": 1,
   "metadata": {},
   "outputs": [
    {
     "name": "stdout",
     "output_type": "stream",
     "text": [
      "/bin/bash: Zeile 1: pip3: Kommando nicht gefunden.\n",
      "Enabling notebook extension jupyter-js-widgets/extension...\n",
      "      - Validating: \u001b[32mOK\u001b[0m\n"
     ]
    }
   ],
   "source": [
    "!pip3 install --user ipywidgets\n",
    "!jupyter nbextension enable --py widgetsnbextension"
   ]
  },
  {
   "cell_type": "markdown",
   "metadata": {},
   "source": [
    "# Fitted space-time finite elements\n",
    "\n",
    "In this tutorial, we consider the heat equation with Dirichlet boundary conditions and want to solve it with a fitted DG-in-time space-time finite element method. The problem is posed on the domain $\\Omega = [0,1]^2$ and time in $[0,1]$. In detail, the PDE reads:\n",
    "\n",
    "$$\n",
    "\\left\\{\n",
    "\\begin{aligned}\n",
    "\\partial_t u - \\Delta u &= f \\quad \\text{ in } \\Omega \\text{ for all } t \\in [0,1],  & \\\\\n",
    "~ \\partial_{\\mathbf{n}} u &=  0  \\quad \\text{ on } \\partial \\Omega, & \\\\\n",
    "u &= u_0  \\quad \\text{at } t=0. & \\\\\n",
    "\\end{aligned}\\right.\n",
    "$$\n",
    "\n",
    "We calculate the right-hand side $f$ such that the solution is $u = \\sin(\\pi t) \\cdot \\sin(\\pi  x)^2 \\cdot \\sin(\\pi y)^2$"
   ]
  },
  {
   "cell_type": "code",
   "execution_count": 2,
   "metadata": {},
   "outputs": [],
   "source": [
    "from netgen.geom2d import unit_square\n",
    "from ngsolve import *\n",
    "from xfem import *\n",
    "import time\n",
    "from math import pi\n",
    "ngsglobals.msg_level = 1"
   ]
  },
  {
   "cell_type": "markdown",
   "metadata": {},
   "source": [
    "We opt for a first-order method in space and time and choose an appropriate timestep."
   ]
  },
  {
   "cell_type": "code",
   "execution_count": 3,
   "metadata": {},
   "outputs": [],
   "source": [
    "# Space finite element order\n",
    "order = 1\n",
    "# Time finite element order\n",
    "k_t = 1\n",
    "# Final simulation time\n",
    "tend = 1.0\n",
    "# Time step\n",
    "delta_t = 1 / 32\n",
    "\n",
    "def dt(u):\n",
    "    return 1.0 / delta_t * dtref(u)"
   ]
  },
  {
   "cell_type": "markdown",
   "metadata": {},
   "source": [
    "Next, we opt for a standard space-time finite element discretisation based on these parameters."
   ]
  },
  {
   "cell_type": "code",
   "execution_count": 4,
   "metadata": {},
   "outputs": [],
   "source": [
    "mesh = Mesh(unit_square.GenerateMesh(maxh=0.05, quad_dominated=False))\n",
    "\n",
    "V = H1(mesh, order=order, dirichlet=\".*\")\n",
    "tfe = ScalarTimeFE(k_t)\n",
    "st_fes = tfe * V\n",
    "\n",
    "tnew = 0\n",
    "told = Parameter(0)\n",
    "t = told + delta_t * tref\n",
    "\n",
    "gfu = GridFunction(st_fes)\n",
    "u_last = CreateTimeRestrictedGF(gfu, 1)\n",
    "u, v = st_fes.TnT()"
   ]
  },
  {
   "cell_type": "markdown",
   "metadata": {},
   "source": [
    "The right-hand side $f$ is calculated as explained above:"
   ]
  },
  {
   "cell_type": "code",
   "execution_count": 9,
   "metadata": {},
   "outputs": [
    {
     "data": {
      "application/vnd.jupyter.widget-view+json": {
       "model_id": "eb8a3f645f1e414e96b09f9099f1dfc8",
       "version_major": 2,
       "version_minor": 0
      },
      "text/plain": [
       "NGSWebGuiWidget(value={'ngsolve_version': '6.2.2101-139-g7eb2ca6ee', 'mesh_dim': 2, 'order2d': 2, 'order3d': 2…"
      ]
     },
     "metadata": {},
     "output_type": "display_data"
    },
    {
     "data": {
      "application/vnd.jupyter.widget-view+json": {
       "model_id": "487046c0fe1a46f28a909fcc35ecdf02",
       "version_major": 2,
       "version_minor": 0
      },
      "text/plain": [
       "interactive(children=(FloatSlider(value=0.0, continuous_update=False, description='tref:', max=1.0, step=0.025…"
      ]
     },
     "metadata": {},
     "output_type": "display_data"
    },
    {
     "data": {
      "text/plain": [
       "<function xfem.TimeSlider_Draw.<locals>.UpdateTime(time)>"
      ]
     },
     "execution_count": 9,
     "metadata": {},
     "output_type": "execute_result"
    }
   ],
   "source": [
    "u_exact = sin(pi * t) * sin(pi * x)**2 * sin(pi * y)**2\n",
    "TimeSlider_Draw(sin(pi * tref) * sin(pi * x)**2 * sin(pi * y)**2,mesh,\"u_exact\", autoscale=False,min=0,max=1)\n",
    "#In order to draw the function u_exact for t in [0,1] instead of t in [0, delta t], we rewrite the function"
   ]
  },
  {
   "cell_type": "code",
   "execution_count": 10,
   "metadata": {},
   "outputs": [
    {
     "data": {
      "application/vnd.jupyter.widget-view+json": {
       "model_id": "5180c11a3a3a4ddbad7532d9dc002d89",
       "version_major": 2,
       "version_minor": 0
      },
      "text/plain": [
       "NGSWebGuiWidget(value={'ngsolve_version': '6.2.2101-139-g7eb2ca6ee', 'mesh_dim': 2, 'order2d': 2, 'order3d': 2…"
      ]
     },
     "metadata": {},
     "output_type": "display_data"
    },
    {
     "data": {
      "application/vnd.jupyter.widget-view+json": {
       "model_id": "cc92693fcf8f425a84c89fa3b0936968",
       "version_major": 2,
       "version_minor": 0
      },
      "text/plain": [
       "interactive(children=(FloatSlider(value=0.0, continuous_update=False, description='tref:', max=1.0, step=0.025…"
      ]
     },
     "metadata": {},
     "output_type": "display_data"
    },
    {
     "data": {
      "text/plain": [
       "<function xfem.TimeSlider_Draw.<locals>.UpdateTime(time)>"
      ]
     },
     "execution_count": 10,
     "metadata": {},
     "output_type": "execute_result"
    }
   ],
   "source": [
    "coeff_f = u_exact.Diff(t) - (u_exact.Diff(x).Diff(x) + u_exact.Diff(y).Diff(y))\n",
    "coeff_f = coeff_f.Compile()\n",
    "TimeSlider_Draw(coeff_f,mesh,\"coeff_f\", autoscale=False,min=-2,max=8)"
   ]
  },
  {
   "cell_type": "markdown",
   "metadata": {},
   "source": [
    "The variational formulation is derived from partial integration of the problem given above, yielding"
   ]
  },
  {
   "cell_type": "code",
   "execution_count": 11,
   "metadata": {},
   "outputs": [],
   "source": [
    "dxt = delta_t * dxtref(mesh, time_order=2)\n",
    "dxold = dmesh(mesh, tref=0)\n",
    "dxnew = dmesh(mesh, tref=1)"
   ]
  },
  {
   "cell_type": "code",
   "execution_count": 12,
   "metadata": {},
   "outputs": [],
   "source": [
    "a = BilinearForm(st_fes, symmetric=False)\n",
    "a += grad(u) * grad(v) * dxt\n",
    "a += u * v * dxold\n",
    "a += dt(u) * v * dxt\n",
    "a.Assemble()\n",
    "\n",
    "f = LinearForm(st_fes)\n",
    "f += coeff_f * v * dxt\n",
    "f += u_last * v * dxold"
   ]
  },
  {
   "cell_type": "markdown",
   "metadata": {},
   "source": [
    "Finally, the problem is solved in a time-stepping manner:"
   ]
  },
  {
   "cell_type": "code",
   "execution_count": 17,
   "metadata": {},
   "outputs": [
    {
     "data": {
      "application/vnd.jupyter.widget-view+json": {
       "model_id": "e2c8274b42a7427fb756f7f8b12bb872",
       "version_major": 2,
       "version_minor": 0
      },
      "text/plain": [
       "NGSWebGuiWidget(value={'ngsolve_version': '6.2.2101-139-g7eb2ca6ee', 'mesh_dim': 2, 'order2d': 2, 'order3d': 2…"
      ]
     },
     "metadata": {},
     "output_type": "display_data"
    },
    {
     "name": "stdout",
     "output_type": "stream",
     "text": [
      "t =  0.031250000, L2 error = 2.084111112e-04\n",
      "t =  0.062500000, L2 error = 4.693640620e-04\n",
      "t =  0.093750000, L2 error = 7.332587318e-04\n",
      "t =  0.125000000, L2 error = 9.951800950e-04\n",
      "t =  0.156250000, L2 error = 1.250524467e-03\n",
      "t =  0.187500000, L2 error = 1.495600082e-03\n",
      "t =  0.218750000, L2 error = 1.727320046e-03\n",
      "t =  0.250000000, L2 error = 1.943033189e-03\n",
      "t =  0.281250000, L2 error = 2.140420860e-03\n",
      "t =  0.312500000, L2 error = 2.317443093e-03\n",
      "t =  0.343750000, L2 error = 2.472314308e-03\n",
      "t =  0.375000000, L2 error = 2.603495538e-03\n",
      "t =  0.406250000, L2 error = 2.709695164e-03\n",
      "t =  0.437500000, L2 error = 2.789873426e-03\n",
      "t =  0.468750000, L2 error = 2.843247981e-03\n",
      "t =  0.500000000, L2 error = 2.869298937e-03\n",
      "t =  0.531250000, L2 error = 2.867772490e-03\n",
      "t =  0.562500000, L2 error = 2.838682660e-03\n",
      "t =  0.593750000, L2 error = 2.782310868e-03\n",
      "t =  0.625000000, L2 error = 2.699203252e-03\n",
      "t =  0.656250000, L2 error = 2.590165731e-03\n",
      "t =  0.687500000, L2 error = 2.456256925e-03\n",
      "t =  0.718750000, L2 error = 2.298779191e-03\n",
      "t =  0.750000000, L2 error = 2.119268244e-03\n",
      "t =  0.781250000, L2 error = 1.919482301e-03\n",
      "t =  0.812500000, L2 error = 1.701392705e-03\n",
      "t =  0.843750000, L2 error = 1.467180678e-03\n",
      "t =  0.875000000, L2 error = 1.219252842e-03\n",
      "t =  0.906250000, L2 error = 9.603165042e-04\n",
      "t =  0.937500000, L2 error = 6.936846827e-04\n",
      "t =  0.968750000, L2 error = 4.248496033e-04\n",
      "t =  1.000000000, L2 error = 1.779320304e-04\n"
     ]
    }
   ],
   "source": [
    "scene = Draw(u_last, mesh,\"u\", autoscale=False,min=0,max=1)\n",
    "u_last.Set(fix_tref(u_exact, 0))\n",
    "told.Set(0.)\n",
    "while tend - told.Get() > delta_t / 2:\n",
    "    f.Assemble()\n",
    "    gfu.vec.data = a.mat.Inverse(st_fes.FreeDofs(), \"umfpack\") * f.vec\n",
    "    RestrictGFInTime(spacetime_gf=gfu, reference_time=1.0, space_gf=u_last)\n",
    "    l2error = sqrt(Integrate((u_exact - gfu)**2 * dxnew, mesh))\n",
    "    scene.Redraw()\n",
    "    time.sleep(0.1)\n",
    "    told.Set(told.Get() + delta_t)\n",
    "    print(\"\\rt = {0:12.9f}, L2 error = {1:12.9e}\".format(told.Get(), l2error))"
   ]
  },
  {
   "cell_type": "code",
   "execution_count": null,
   "metadata": {},
   "outputs": [],
   "source": []
  }
 ],
 "metadata": {
  "kernelspec": {
   "display_name": "Python 3",
   "language": "python",
   "name": "python3"
  },
  "language_info": {
   "codemirror_mode": {
    "name": "ipython",
    "version": 3
   },
   "file_extension": ".py",
   "mimetype": "text/x-python",
   "name": "python",
   "nbconvert_exporter": "python",
   "pygments_lexer": "ipython3",
   "version": "3.9.1"
  }
 },
 "nbformat": 4,
 "nbformat_minor": 4
}

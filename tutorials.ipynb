{
 "cells": [
  {
   "attachments": {},
   "cell_type": "markdown",
   "metadata": {
    "slideshow": {
     "slide_type": "slide"
    }
   },
   "source": [
    "Interactive Tutorials for `ngsxfem`\n",
    "====\n",
    "\n",
    "This material provides an introduction to the `ngsxfem` library for `NGSolve`. It divides into two parts: \n",
    "In the first part (units 1-4) we introduce and explain the basic components that come with `ngsxfem` while in the second part (units 5-6) we apply these on a few additional advanced unfitted discretizations."
   ]
  },
  {
   "attachments": {},
   "cell_type": "markdown",
   "metadata": {},
   "source": [
    "This material was created by \n",
    "* Fabian Heimann, Christoph Lehrenfeld, Yimin Lou, Janosch Preuss, Tim van Beeck (Univ. Göttingen), [units 1,2,3,5,6]\n",
    "* Henry von Wahl (OvGU Magdeburg), [unit 4].\n",
    "* Thomas Jankuhn and Thomas Ludescher (RWTH Aachen University), [units 7-8] and\n",
    "* Guosheng Fu (University of Notre Dame) [unit 9]\n",
    "\n",
    "Most of the material originated from one of the NGSolve's user meetings in June 2018 and July 2019 and has been updated afterwards, especially in April 2020 and March 2021."
   ]
  },
  {
   "attachments": {},
   "cell_type": "markdown",
   "metadata": {},
   "source": [
    "## Introduction of `ngsxfem` core features:\n"
   ]
  },
  {
   "attachments": {},
   "cell_type": "markdown",
   "metadata": {},
   "source": [
    "### 1. Basic functionality\n",
    "* 1a: [basics.ipynb](basics.ipynb) on helper functions (cut position / active mesh). \n",
    "\n",
    "  This unit introduces the following `ngsxfem` components:\n",
    "    * Level set geometries (piecewise linear - P1)\n",
    "    * Visualization of discontinuous fields\n",
    "    * How to mark active elements in level set geometries\n",
    "    * How to mark active facets\n",
    "    * How to restrict `FESpace`s and `BilinearForm`s\n",
    "* 1b: [intlset.ipynb](intlset.ipynb) on higher order accurate integration on level set domains\n",
    "\n",
    "  This unit introduces the following `ngsxfem` components:\n",
    "    * Cut differential symbols for integration on level set domains\n",
    "    * Isoparametric mapping for higher oder accuracy\n"
   ]
  },
  {
   "attachments": {},
   "cell_type": "markdown",
   "metadata": {},
   "source": [
    "### 2. Stationary PDEs\n",
    "* 2: [cutfem.ipynb](cutfem.ipynb) on unfitted FEM discretizations\n",
    "  \n",
    "  This unit introduces/applies the following `ngsxfem` components:\n",
    "    * Cut differential symbols for bilinear and linear form integrators\n",
    "    * Application of isoparametric mapping\n",
    "    * eXtended Finite element spaces  "
   ]
  },
  {
   "attachments": {},
   "cell_type": "markdown",
   "metadata": {},
   "source": [
    "### 3. Moving domain problems\n",
    "* 3a: [spacetime_fitted.ipynb](spacetime_fitted.ipynb) on space-time discretization of the heat equation \n",
    "\n",
    "  This unit introduces the following `ngsxfem` components:\n",
    "    * space-time integration (differential symbols)\n",
    "    * space-time finite elements\n",
    "\n",
    "* 3b: [spacetime_unfitted.ipynb](spacetime_unfitted.ipynb) on unfitted space-time discretizations of a moving domain problem\n",
    "\n",
    "  This unit introduces the following `ngsxfem` components:\n",
    "    * space-time level set geometry approximations\n",
    "    * space-time isoparametric mapping\n",
    "    * space-time ghost penalty stabilization"
   ]
  },
  {
   "attachments": {},
   "cell_type": "markdown",
   "metadata": {
    "collapsed": true,
    "slideshow": {
     "slide_type": "subslide"
    }
   },
   "source": [
    "### 4. Multiple level sets\n",
    "* 4a: [mlset_basic.ipynb](mlset_basic.ipynb) explains the basic functionality for domains defined via multiple level set functions\n",
    "\n",
    "  This unit introduces the following `ngsxfem` components:\n",
    "    * geometry definition and handling via multiple level set functions\n",
    "    * integration on geometries defined by multiple level set functions\n",
    "* 4b: [mlset_pde.ipynb](mlset_pde.ipynb) solving an unfitted Poisson problem on a domain defined by multiple level sets\n",
    "\n",
    "  This unit applies the `ngsxfem` components introduced in 4a.\n"
   ]
  },
  {
   "attachments": {},
   "cell_type": "markdown",
   "metadata": {},
   "source": [
    "### 5. Patch mechanisms for unfitted FEM\n",
    "* 5: [aggregation.ipynb](aggregation.ipynb) explains the basic functionality around patch organisation and cell and FE basis aggregation"
   ]
  },
  {
   "attachments": {},
   "cell_type": "markdown",
   "metadata": {},
   "source": [
    "---"
   ]
  },
  {
   "attachments": {},
   "cell_type": "markdown",
   "metadata": {
    "slideshow": {
     "slide_type": "subslide"
    }
   },
   "source": [
    "## Application of `ngsxfem`s features for advanced discretization techniques"
   ]
  },
  {
   "attachments": {},
   "cell_type": "markdown",
   "metadata": {},
   "source": [
    "### 6. Unfitted mixed FEM\n",
    "* 6a: [unfmixed.ipynb](unfmixed.ipynb) on unfitted mixed FEM for the mixed Poisson problem on a fictitious domain (due to Tim van Beeck)"
   ]
  },
  {
   "attachments": {},
   "cell_type": "markdown",
   "metadata": {},
   "source": [
    "### 7. Surface PDEs\n",
    "* 7a: [tracefem_scalar.ipynb](tracefem_scalar.ipynb) on TraceFEM for a scalar PDE on a stationary unfitted surface\n",
    "* 7b: [tracefem_vector.ipynb](tracefem_vector.ipynb) on TraceFEM for a vectorial PDE on a stationary unfitted surface (due to Thomas Jankuhn)\n",
    "\n",
    "  Both units apply the components of `ngsxfem` introduced in unit 1. "
   ]
  },
  {
   "attachments": {},
   "cell_type": "markdown",
   "metadata": {},
   "source": [
    "### 8. Preconditioning\n",
    "* 8: [cutmg.ipynb](cutmg.ipynb) on Multigrid Preconditioning for unfitted FEM discretizations  (due to Thomas Ludescher)\n",
    "\n",
    "  This unit extends the usual facilities of `ngsxfem` by a Multigrid preconditioner for unfitted FEM discretizations."
   ]
  },
  {
   "attachments": {},
   "cell_type": "markdown",
   "metadata": {},
   "source": [
    "### 9. Discrete fracture model\n",
    "* 9: [mlset_dfm.ipynb](mlset_dfm.ipynb) discrete fracture model using standard FEM and multiple level sets to describe fractures (due to Guosheng Fu)\n",
    "\n",
    "  This unit applies the feature of multiple level sets to solve discrete fracture model."
   ]
  },
  {
   "attachments": {},
   "cell_type": "markdown",
   "metadata": {},
   "source": []
  }
 ],
 "metadata": {
  "kernelspec": {
   "display_name": "Python 3",
   "language": "python",
   "name": "python3"
  },
  "language_info": {
   "codemirror_mode": {
    "name": "ipython",
    "version": 3
   },
   "file_extension": ".py",
   "mimetype": "text/x-python",
   "name": "python",
   "nbconvert_exporter": "python",
   "pygments_lexer": "ipython3",
   "version": "3.9.5"
  }
 },
 "nbformat": 4,
 "nbformat_minor": 2
}

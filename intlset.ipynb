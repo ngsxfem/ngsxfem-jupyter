{
 "cells": [
  {
   "cell_type": "markdown",
   "metadata": {
    "slideshow": {
     "slide_type": "slide"
    }
   },
   "source": [
    "# Integration on level set domains\n",
    "* simple example: calculate area of the unit circle using level set representations\n",
    "* background domain: $[-1.5, 1.5]^2 \\subset \\mathbb{R}^2$.\n",
    "\n",
    "Let $\\phi$ be a continuous level set function. We recall:\n",
    "$$\n",
    "  \\Omega_{-} := \\{ \\phi < 0 \\}, \\quad\n",
    "  \\Omega_{+} := \\{ \\phi > 0 \\}, \\quad\n",
    "  \\Gamma := \\{ \\phi = 0 \\}.\n",
    "$$"
   ]
  },
  {
   "cell_type": "code",
   "execution_count": 1,
   "metadata": {
    "slideshow": {
     "slide_type": "subslide"
    }
   },
   "outputs": [],
   "source": [
    "#import netgen.gui\n",
    "\n",
    "from math import pi\n",
    "from ngsolve import *\n",
    "# basic xfem functionality\n",
    "from xfem import *\n",
    "# for isoparametric mapping\n",
    "from xfem.lsetcurv import *\n",
    "\n",
    "from ngsolve.webgui import *\n",
    "# basic geometry features (for the background mesh)\n",
    "from netgen.geom2d import SplineGeometry\n",
    "# visualization stuff\n",
    "from ngsolve.internal import *"
   ]
  },
  {
   "cell_type": "markdown",
   "metadata": {
    "slideshow": {
     "slide_type": "subslide"
    }
   },
   "source": [
    "We generate the background mesh of the domain and use a simplicial triangulation"
   ]
  },
  {
   "cell_type": "code",
   "execution_count": 2,
   "metadata": {
    "slideshow": {
     "slide_type": "-"
    }
   },
   "outputs": [
    {
     "data": {
      "application/vnd.jupyter.widget-view+json": {
       "model_id": "6d561af7bf8e4194b85eb4ccbee5474e",
       "version_major": 2,
       "version_minor": 0
      },
      "text/plain": [
       "NGSWebGuiWidget(value={'ngsolve_version': '6.2.2008-109-gfd7edeb77', 'mesh_dim': 2, 'order2d': 1, 'order3d': 1…"
      ]
     },
     "metadata": {},
     "output_type": "display_data"
    },
    {
     "data": {
      "text/plain": []
     },
     "execution_count": 2,
     "metadata": {},
     "output_type": "execute_result"
    }
   ],
   "source": [
    "square = SplineGeometry()\n",
    "square.AddRectangle([-1.5,-1.5],[1.5,1.5],bc=1)\n",
    "mesh = Mesh (square.GenerateMesh(maxh=0.8, quad_dominated=False))\n",
    "Draw(mesh)"
   ]
  },
  {
   "cell_type": "markdown",
   "metadata": {
    "slideshow": {
     "slide_type": "subslide"
    }
   },
   "source": [
    "On the background mesh we define the level set function. In this example we choose a levelset function which measures the distance to the origin and substracts a constant $r$, resulting in an circle of radius $r$ as $\\Omega_{-}$:"
   ]
  },
  {
   "cell_type": "code",
   "execution_count": 3,
   "metadata": {
    "slideshow": {
     "slide_type": "-"
    }
   },
   "outputs": [
    {
     "data": {
      "application/vnd.jupyter.widget-view+json": {
       "model_id": "fddd98f89b594a428017bde1131927b1",
       "version_major": 2,
       "version_minor": 0
      },
      "text/plain": [
       "NGSWebGuiWidget(value={'ngsolve_version': '6.2.2008-109-gfd7edeb77', 'mesh_dim': 2, 'order2d': 2, 'order3d': 2…"
      ]
     },
     "metadata": {},
     "output_type": "display_data"
    },
    {
     "data": {
      "text/plain": []
     },
     "execution_count": 3,
     "metadata": {},
     "output_type": "execute_result"
    }
   ],
   "source": [
    "r=1\n",
    "levelset = sqrt(x**2+y**2)-r\n",
    "Draw(levelset, mesh, \"Levelset\",min=0,max=0)"
   ]
  },
  {
   "cell_type": "markdown",
   "metadata": {
    "collapsed": true,
    "slideshow": {
     "slide_type": "slide"
    }
   },
   "source": [
    "* Area of the unit circle:\n",
    "$$\n",
    "A = \\pi = \\int_{\\Omega_-(\\phi)} 1 \\, \\mathrm{d}x\n",
    "$$\n",
    "\n",
    "* The ngsxfem integration on implicitly defined geometries is only able to handle functions $\\phi$ which are in $\\mathcal{P}^1(T)$ for all $T$ of the triangulation.\n",
    "\n",
    "* Therefore we replace the levelset function $\\phi$ with an approximation $\\phi^\\ast \\in \\mathcal{P}^1(T), T \\subset \\Omega$. "
   ]
  },
  {
   "cell_type": "code",
   "execution_count": 4,
   "metadata": {
    "slideshow": {
     "slide_type": "fragment"
    }
   },
   "outputs": [
    {
     "data": {
      "application/vnd.jupyter.widget-view+json": {
       "model_id": "ecb4f4f5ff78488fa5e267f75c03b23d",
       "version_major": 2,
       "version_minor": 0
      },
      "text/plain": [
       "NGSWebGuiWidget(value={'ngsolve_version': '6.2.2008-109-gfd7edeb77', 'mesh_dim': 2, 'order2d': 2, 'order3d': 2…"
      ]
     },
     "metadata": {},
     "output_type": "display_data"
    },
    {
     "data": {
      "text/plain": []
     },
     "execution_count": 4,
     "metadata": {},
     "output_type": "execute_result"
    }
   ],
   "source": [
    "V = H1(mesh,order=1)\n",
    "lset_approx = GridFunction(V)\n",
    "InterpolateToP1(levelset,lset_approx)\n",
    "Draw(lset_approx,mesh,\"lsetp1\",min=0,max=0.0)"
   ]
  },
  {
   "cell_type": "markdown",
   "metadata": {
    "slideshow": {
     "slide_type": "subslide"
    }
   },
   "source": [
    "Notice that this replacement $\\phi \\mapsto \\phi^\\ast$ will introduce a geometry error of order $h^2$. We will investigate this numerically later on in this notebook.\n",
    "\n",
    "As a next step we need to define the integrand:"
   ]
  },
  {
   "cell_type": "code",
   "execution_count": 5,
   "metadata": {
    "slideshow": {
     "slide_type": "-"
    }
   },
   "outputs": [],
   "source": [
    "f = CoefficientFunction(1)"
   ]
  },
  {
   "cell_type": "markdown",
   "metadata": {
    "slideshow": {
     "slide_type": "subslide"
    }
   },
   "source": [
    "To call the `Integrate` function -- additionally to the arguments known from standard NGSolve -- we need to pass the \"levelset_domain\" dictionary argument which has the following entries:\n",
    "* \"levelset\": level set function which describes the geometry (best choice: P1-GridFunction)\n",
    "* \"domain_type\": decision on which part of the geometry the integration should take place (`NEG`/`POS`/`IF`)"
   ]
  },
  {
   "cell_type": "code",
   "execution_count": 6,
   "metadata": {
    "slideshow": {
     "slide_type": "-"
    }
   },
   "outputs": [
    {
     "name": "stdout",
     "output_type": "stream",
     "text": [
      "Result of the integration:  2.897369547779562\n",
      "Error of the integration:  0.2442231058102311\n"
     ]
    }
   ],
   "source": [
    "order = 2\n",
    "integral = Integrate(levelset_domain = { \"levelset\" : lset_approx, \"domain_type\" : NEG},\n",
    "                             cf=f, mesh=mesh, order = order)\n",
    "error = abs(integral - pi)\n",
    "print(\"Result of the integration: \", integral)\n",
    "print(\"Error of the integration: \", error)"
   ]
  },
  {
   "cell_type": "markdown",
   "metadata": {
    "slideshow": {
     "slide_type": "subslide"
    }
   },
   "source": [
    "### Convergence \n",
    "\n",
    "To get more accurate results\n",
    "* save the previous error and execute a refinement \n",
    "* repeat the steps from above\n",
    "* Repeadetly execute the lower block to add more refinement steps."
   ]
  },
  {
   "cell_type": "code",
   "execution_count": 7,
   "metadata": {
    "slideshow": {
     "slide_type": "-"
    }
   },
   "outputs": [
    {
     "name": "stdout",
     "output_type": "stream",
     "text": [
      "Result of the integration:  2.897369547779562\n",
      "Error of the integration:  0.2442231058102311\n",
      "Collected errors: [0.2442231058102311]\n",
      "experimental order of convergence (L2): []\n"
     ]
    }
   ],
   "source": [
    "errors = []\n",
    "\n",
    "def AppendResultAndPostProcess(integral):\n",
    "    error = abs(integral - pi)\n",
    "    print(\"Result of the integration: \", integral)\n",
    "    print(\"Error of the integration: \", error)\n",
    "\n",
    "    errors.append(error)\n",
    "    eoc = [log(errors[i+1]/errors[i])/log(0.5) for i in range(len(errors)-1)]\n",
    "\n",
    "    print(\"Collected errors:\", errors)\n",
    "    print(\"experimental order of convergence (L2):\", eoc)    \n",
    "\n",
    "AppendResultAndPostProcess(integral)"
   ]
  },
  {
   "cell_type": "code",
   "execution_count": 8,
   "metadata": {
    "scrolled": false,
    "slideshow": {
     "slide_type": "subslide"
    }
   },
   "outputs": [
    {
     "data": {
      "application/vnd.jupyter.widget-view+json": {
       "model_id": "bad7652f986c49bba286c512d7646812",
       "version_major": 2,
       "version_minor": 0
      },
      "text/plain": [
       "NGSWebGuiWidget(value={'ngsolve_version': '6.2.2008-109-gfd7edeb77', 'mesh_dim': 2, 'order2d': 2, 'order3d': 2…"
      ]
     },
     "metadata": {},
     "output_type": "display_data"
    },
    {
     "name": "stdout",
     "output_type": "stream",
     "text": [
      "Result of the integration:  3.064299809805666\n",
      "Error of the integration:  0.07729284378412693\n",
      "Collected errors: [0.2442231058102311, 0.07729284378412693]\n",
      "experimental order of convergence (L2): [1.6597929469020138]\n"
     ]
    }
   ],
   "source": [
    "# refine cut elements only:\n",
    "RefineAtLevelSet(gf=lset_approx)\n",
    "mesh.Refine()\n",
    "\n",
    "V.Update()\n",
    "lset_approx.Update()\n",
    "\n",
    "InterpolateToP1(levelset,lset_approx)\n",
    "Draw(lset_approx,mesh,\"lsetp1\",min=0,max=0.0)\n",
    "\n",
    "integral = Integrate(levelset_domain = { \"levelset\" : lset_approx, \"domain_type\" : NEG},\n",
    "                     cf = f, mesh = mesh, order = order)\n",
    "AppendResultAndPostProcess(integral)"
   ]
  },
  {
   "cell_type": "markdown",
   "metadata": {
    "slideshow": {
     "slide_type": "fragment"
    }
   },
   "source": [
    "We observe only a second order convergence which result from the geometry approximation."
   ]
  },
  {
   "cell_type": "markdown",
   "metadata": {
    "slideshow": {
     "slide_type": "slide"
    }
   },
   "source": [
    "## Higher order geometry approximation with an isoparametric mapping\n",
    "In order to get higher order convergence we can use the isoparametric mapping functionality of xfem.\n",
    "\n",
    "We apply a mesh transformation technique in the spirit of isoparametric finite elements:\n",
    "![title](graphics/lsetcurv.jpg)"
   ]
  },
  {
   "cell_type": "markdown",
   "metadata": {
    "slideshow": {
     "slide_type": "subslide"
    }
   },
   "source": [
    "### Video of the mesh transformation"
   ]
  },
  {
   "cell_type": "code",
   "execution_count": 9,
   "metadata": {
    "scrolled": true,
    "slideshow": {
     "slide_type": "-"
    }
   },
   "outputs": [
    {
     "data": {
      "text/html": [
       "<iframe width=100% height=600px src=\"https://www.youtube.com/embed/Mst_LvfgPCg?rel=0\" frameborder=\"0\" allow=\"autoplay; encrypted-media\" allowfullscreen></iframe>\n"
      ],
      "text/plain": [
       "<IPython.core.display.HTML object>"
      ]
     },
     "metadata": {},
     "output_type": "display_data"
    }
   ],
   "source": [
    "%%html\n",
    "<iframe width=100% height=600px src=\"https://www.youtube.com/embed/Mst_LvfgPCg?rel=0\" frameborder=\"0\" allow=\"autoplay; encrypted-media\" allowfullscreen></iframe>"
   ]
  },
  {
   "cell_type": "markdown",
   "metadata": {
    "slideshow": {
     "slide_type": "subslide"
    }
   },
   "source": [
    "To compute the corresponding mapping we use the LevelSetMeshAdaptation class"
   ]
  },
  {
   "cell_type": "code",
   "execution_count": 10,
   "metadata": {
    "slideshow": {
     "slide_type": "-"
    }
   },
   "outputs": [
    {
     "data": {
      "application/vnd.jupyter.widget-view+json": {
       "model_id": "332f6f28f1094d2fbaf129f32277044b",
       "version_major": 2,
       "version_minor": 0
      },
      "text/plain": [
       "NGSWebGuiWidget(value={'ngsolve_version': '6.2.2008-109-gfd7edeb77', 'mesh_dim': 2, 'order2d': 2, 'order3d': 2…"
      ]
     },
     "metadata": {},
     "output_type": "display_data"
    },
    {
     "data": {
      "text/plain": []
     },
     "execution_count": 10,
     "metadata": {},
     "output_type": "execute_result"
    }
   ],
   "source": [
    "lsetmeshadap = LevelSetMeshAdaptation(mesh, order=2, threshold=1000, discontinuous_qn=True)\n",
    "deformation = lsetmeshadap.CalcDeformation(levelset)\n",
    "Draw(deformation,mesh,\"deformation\")"
   ]
  },
  {
   "cell_type": "markdown",
   "metadata": {
    "slideshow": {
     "slide_type": "subslide"
    }
   },
   "source": [
    "We can observe the geometrical improvement in the following sequence:"
   ]
  },
  {
   "cell_type": "code",
   "execution_count": 11,
   "metadata": {
    "slideshow": {
     "slide_type": "-"
    }
   },
   "outputs": [
    {
     "data": {
      "application/vnd.jupyter.widget-view+json": {
       "model_id": "d5795ecaa8fd4263917b266d75697519",
       "version_major": 2,
       "version_minor": 0
      },
      "text/plain": [
       "NGSWebGuiWidget(value={'ngsolve_version': '6.2.2008-109-gfd7edeb77', 'mesh_dim': 2, 'order2d': 2, 'order3d': 2…"
      ]
     },
     "metadata": {},
     "output_type": "display_data"
    },
    {
     "data": {
      "application/vnd.jupyter.widget-view+json": {
       "model_id": "103f61aa648c4946a41bdec21bf863cf",
       "version_major": 2,
       "version_minor": 0
      },
      "text/plain": [
       "NGSWebGuiWidget(value={'ngsolve_version': '6.2.2008-109-gfd7edeb77', 'mesh_dim': 2, 'order2d': 2, 'order3d': 2…"
      ]
     },
     "metadata": {},
     "output_type": "display_data"
    }
   ],
   "source": [
    "Draw(lsetmeshadap.lset_p1,mesh,\"lsetp1\")\n",
    "Draw(deformation,mesh,\"deformation\")\n",
    "\n",
    "visoptions.autoscale = 0\n",
    "visoptions.mminval = 0.0\n",
    "visoptions.mmaxval = 0.0\n",
    "visoptions.deformation = 1.0\n",
    "visoptions.subdivisions = 4\n",
    "from time import sleep\n",
    "\n",
    "N=10000\n",
    "#from time import sleep\n",
    "deformation.vec.data = 1.0/N*deformation.vec\n",
    "for i in range (1,N+1):\n",
    "    #sleep(0.1)\n",
    "    deformation.vec.data = (i+1)/i * deformation.vec\n",
    "    Redraw()"
   ]
  },
  {
   "cell_type": "markdown",
   "metadata": {
    "slideshow": {
     "slide_type": "subslide"
    }
   },
   "source": [
    "## Convergence study with isoparametric mapping applied\n",
    "### error tables:"
   ]
  },
  {
   "cell_type": "code",
   "execution_count": 12,
   "metadata": {
    "slideshow": {
     "slide_type": "-"
    }
   },
   "outputs": [],
   "source": [
    "from xfem.lsetcurv import *\n",
    "\n",
    "order = 2\n",
    "refinements = 7\n",
    "mesh = Mesh (square.GenerateMesh(maxh=0.8, quad_dominated=False))\n",
    "\n",
    "levelset = sqrt(x*x+y*y)-1\n",
    "referencevals = { POS : 9-pi, NEG : pi, IF : 2*pi }\n",
    "\n",
    "lsetmeshadap = LevelSetMeshAdaptation(mesh, order=order, threshold=0.2, discontinuous_qn=True)\n",
    "lsetp1 = lsetmeshadap.lset_p1\n",
    "errors_uncurved = dict()\n",
    "errors_curved = dict()\n",
    "eoc_uncurved = dict()\n",
    "eoc_curved = dict()\n",
    "\n",
    "for key in [NEG,POS,IF]:\n",
    "    errors_curved[key] = []\n",
    "    errors_uncurved[key] = []\n",
    "    eoc_curved[key] = []\n",
    "    eoc_uncurved[key] = []"
   ]
  },
  {
   "cell_type": "markdown",
   "metadata": {
    "slideshow": {
     "slide_type": "subslide"
    }
   },
   "source": [
    "### refinements:"
   ]
  },
  {
   "cell_type": "code",
   "execution_count": 13,
   "metadata": {
    "slideshow": {
     "slide_type": "-"
    }
   },
   "outputs": [],
   "source": [
    "\n",
    "f = CoefficientFunction (1.0)\n",
    "\n",
    "for reflevel in range(refinements):\n",
    "    if(reflevel > 0):\n",
    "        mesh.Refine()\n",
    "\n",
    "    for key in [NEG,POS,IF]:\n",
    "        # Applying the mesh deformation\n",
    "        deformation = lsetmeshadap.CalcDeformation(levelset)\n",
    "\n",
    "        integrals_uncurved = Integrate(levelset_domain = { \"levelset\" : lsetp1, \"domain_type\" : key},\n",
    "                                        cf=f, mesh=mesh, order = order)\n",
    "\n",
    "        mesh.SetDeformation(deformation)\n",
    "        integrals_curved = Integrate(levelset_domain = { \"levelset\" : lsetp1, \"domain_type\" : key},\n",
    "                                       cf=f, mesh=mesh, order = order)\n",
    "        # Unapply the mesh deformation (for refinement)\n",
    "        mesh.UnsetDeformation()\n",
    "\n",
    "        errors_curved[key].append(abs(integrals_curved - referencevals[key]))\n",
    "        errors_uncurved[key].append(abs(integrals_uncurved - referencevals[key]))\n",
    "    # refine cut elements:\n",
    "    RefineAtLevelSet(gf=lsetmeshadap.lset_p1)\n",
    "\n"
   ]
  },
  {
   "cell_type": "markdown",
   "metadata": {
    "slideshow": {
     "slide_type": "subslide"
    }
   },
   "source": [
    "### Convergence rates:"
   ]
  },
  {
   "cell_type": "code",
   "execution_count": 14,
   "metadata": {
    "slideshow": {
     "slide_type": "-"
    }
   },
   "outputs": [
    {
     "name": "stdout",
     "output_type": "stream",
     "text": [
      "errors (  curved):  \n",
      "{<DOMAIN_TYPE.NEG: 0>: [0.018414951196107587, 0.002576506961442515, 5.068159427690233e-06, 1.2107751648837706e-05, 1.001608783468555e-06, 5.652403123335148e-08, 2.908470353446546e-09], <DOMAIN_TYPE.POS: 1>: [0.15822943946394652, 0.002576506961441183, 5.068159428134322e-06, 1.2107751654610865e-05, 1.001608787909447e-06, 5.6524040559224886e-08, 2.9084805674983727e-09], <DOMAIN_TYPE.IF: 2>: [0.023146829325124685, 0.0022224244347226474, 1.1003235001361134e-05, 1.3157275289721326e-05, 1.0638499459147965e-06, 6.064207092038032e-08, 3.177648366659014e-09]}\n",
      "\n",
      "   eoc (  curved):  \n",
      "{<DOMAIN_TYPE.NEG: 0>: [2.8373891781517377, 8.98973886751225, -1.2563971756187544, 3.595539964318788, 4.147310947920558, 4.280531857098421], <DOMAIN_TYPE.POS: 1>: [5.9404577454642915, 8.98973886738509, -1.2563971761802395, 3.5955399586101247, 4.147310716287562, 4.280527028637952], <DOMAIN_TYPE.IF: 2>: [3.3806083137471026, 7.658062811136652, -0.2579330105145717, 3.6284941747526154, 4.132831843236782, 4.254287629863509]}\n",
      "\n"
     ]
    }
   ],
   "source": [
    "for key in [NEG,POS,IF]:\n",
    "    eoc_curved[key] = [log(a/b)/log(2) for (a,b) in zip (errors_curved[key][0:-1],errors_curved[key][1:]) ]\n",
    "    eoc_uncurved[key] = [log(a/b)/log(2) for (a,b) in zip (errors_uncurved[key][0:-1],errors_uncurved[key][1:]) ]\n",
    "\n",
    "print(\"errors (  curved):  \\n{}\\n\".format(  errors_curved))\n",
    "print(\"   eoc (  curved):  \\n{}\\n\".format(     eoc_curved))"
   ]
  },
  {
   "cell_type": "markdown",
   "metadata": {
    "slideshow": {
     "slide_type": "subslide"
    }
   },
   "source": [
    "* The integration on level set domains (and the mapping) can be extended to `SymbolicBFI` / `SymbolicLFI` ..."
   ]
  }
 ],
 "metadata": {
  "kernelspec": {
   "display_name": "Python 3",
   "language": "python",
   "name": "python3"
  },
  "language_info": {
   "codemirror_mode": {
    "name": "ipython",
    "version": 3
   },
   "file_extension": ".py",
   "mimetype": "text/x-python",
   "name": "python",
   "nbconvert_exporter": "python",
   "pygments_lexer": "ipython3",
   "version": "3.8.5"
  },
  "toc": {
   "base_numbering": 1,
   "nav_menu": {},
   "number_sections": true,
   "sideBar": true,
   "skip_h1_title": false,
   "title_cell": "Table of Contents",
   "title_sidebar": "Contents",
   "toc_cell": false,
   "toc_position": {},
   "toc_section_display": true,
   "toc_window_display": false
  }
 },
 "nbformat": 4,
 "nbformat_minor": 2
}

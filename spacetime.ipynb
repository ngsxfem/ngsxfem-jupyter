{
 "cells": [
  {
   "cell_type": "markdown",
   "metadata": {
    "slideshow": {
     "slide_type": "subslide"
    }
   },
   "source": [
    "In this tutorial we make use of `ipywidgets`. You can (in the ideal case) simply install them with executing the next cell. You will however need to restart jupyter afterwards."
   ]
  },
  {
   "cell_type": "code",
   "execution_count": null,
   "metadata": {
    "slideshow": {
     "slide_type": "-"
    }
   },
   "outputs": [],
   "source": [
    "!pip3 install --user ipywidgets\n",
    "!jupyter nbextension enable --py widgetsnbextension"
   ]
  },
  {
   "cell_type": "markdown",
   "metadata": {
    "slideshow": {
     "slide_type": "slide"
    }
   },
   "source": [
    "# Unfitted space-time finite elements\n",
    "In this example we consider a moving domain problem with homogeneous Neumann boundary conditions:\n",
    "\n",
    "$$\n",
    "\\left\\{\n",
    "\\begin{aligned}\n",
    "\\partial_t u + \\mathbf{w} \\cdot \\nabla u - \\alpha \\Delta u &= f \\quad \\text{ in } \\Omega(t),  & \\\\\n",
    "~ \\partial_{\\mathbf{n}} u &=  0  \\quad \\text{ on } \\partial \\Omega(t), & \\\\\n",
    "u &= u_0  \\quad \\text{at } t=0, & \\\\\n",
    "\\end{aligned}\\right.\n",
    "$$\n",
    "\n",
    "$$\n",
    "\\operatorname{div}(\\mathbf{w}) = 0  \\quad \\text{ in } \\Omega(t),  \\quad \\mathbf{w} \\cdot n = \\mathcal{V}_n \\text{ on } \\partial \\Omega(t).\n",
    "$$\n",
    "\n",
    "We consider a basic P1 version of a space-time discretization as discussed in [1]. The version in [1] (also implemented in `NGSolve` and `ngsxfem`) extends this approach to higher order in space and time.\n",
    "\n",
    "#### Literature:\n",
    "[1]: J. Preuß. Higher order unfitted isoparametric space-time FEM on moving domains. Master thesis, University of Göttingen, 2018.\n",
    "\n"
   ]
  },
  {
   "cell_type": "code",
   "execution_count": null,
   "metadata": {
    "slideshow": {
     "slide_type": "subslide"
    }
   },
   "outputs": [],
   "source": [
    "# unfitted Heat equation with Neumann b.c.\n",
    "from netgen.geom2d import SplineGeometry\n",
    "from netgen.meshing import MeshingParameters\n",
    "from ngsolve import *\n",
    "\n",
    "from ngsolve.webgui import *\n",
    "from ngsolve.internal import *\n",
    "from xfem import *\n",
    "from math import pi\n",
    "\n",
    "#import netgen.gui \n",
    "DrawDC = MakeDiscontinuousDraw(Draw)\n",
    "ngsglobals.msg_level = 1"
   ]
  },
  {
   "cell_type": "markdown",
   "metadata": {
    "slideshow": {
     "slide_type": "subslide"
    }
   },
   "source": [
    "## Background geometry and mesh:\n",
    "\n",
    "* We consider a simple square as background domain an use a simple mesh for that.\n",
    "* The space-time method uses tensor-product elements. Hence, we do not need space-time meshes."
   ]
  },
  {
   "cell_type": "code",
   "execution_count": null,
   "metadata": {
    "slideshow": {
     "slide_type": "fragment"
    }
   },
   "outputs": [],
   "source": [
    "square = SplineGeometry()\n",
    "square.AddRectangle([-1,-1],[1,1])\n",
    "ngmesh = square.GenerateMesh(maxh=0.08, quad_dominated=False)\n",
    "mesh = Mesh (ngmesh)\n",
    "\n",
    "#alternatively: quad mesh:\n",
    "#ngmesh = square.GenerateMesh(maxh=1.8, quad_dominated=True)\n",
    "#mesh = Mesh (ngmesh)\n",
    "#for i in range(4):\n",
    "#    mesh.Refine()\n",
    "h = specialcf.mesh_size\n",
    "Draw(mesh)"
   ]
  },
  {
   "cell_type": "markdown",
   "metadata": {
    "slideshow": {
     "slide_type": "slide"
    }
   },
   "source": [
    "## Handling of the time variable\n",
    "\n",
    "For the handling of the space-time integration we use the following rules:\n",
    " * every time step is formulated with respect to the reference interval $[0,1)$ in time\n",
    " \n",
    " * Example: $t_{n-1} = 0.4$, $t=0.55$, $\\Delta t = 0.2$ $\\quad \\longrightarrow \\quad$ $\\hat{t} = 0.75$.\n",
    " \n",
    " * $\\hat{t}$ is the `ReferenceTimeVariable`\n",
    " \n",
    " * We define $t_{old}(=t_{n-1})$ and $\\Delta t$ as a `Parameter`, s.t. we can change the time interval later"
   ]
  },
  {
   "cell_type": "code",
   "execution_count": null,
   "metadata": {
    "slideshow": {
     "slide_type": "-"
    }
   },
   "outputs": [],
   "source": [
    "#### expression for the time variable: \n",
    "coef_told = Parameter(0)\n",
    "coef_delta_t = Parameter(0)\n",
    "tref = ReferenceTimeVariable()\n",
    "t = coef_told + coef_delta_t*tref"
   ]
  },
  {
   "cell_type": "markdown",
   "metadata": {
    "slideshow": {
     "slide_type": "subslide"
    }
   },
   "source": [
    "## Data functions (depending on $t$)"
   ]
  },
  {
   "cell_type": "code",
   "execution_count": null,
   "metadata": {
    "slideshow": {
     "slide_type": "-"
    }
   },
   "outputs": [],
   "source": [
    "r0 = 0.5\n",
    "\n",
    "rho =  CoefficientFunction((1/(pi))*sin(2*pi*t))\n",
    "#convection velocity:\n",
    "d_rho = CoefficientFunction(2*cos(2*pi*t))\n",
    "w = CoefficientFunction((0,d_rho)) \n",
    "\n",
    "# level set\n",
    "r = sqrt(x**2+(y-rho)**2)\n",
    "levelset= (r - r0).Compile()\n",
    "\n",
    "r_at_t = lambda t: sqrt(x**2+(y-(1/(pi))*sin(2*pi*t))**2)\n",
    "\n",
    "# diffusion coefficient\n",
    "alpha = 1\n",
    "\n",
    "# solution and r.h.s.\n",
    "Q = pi/r0   \n",
    "u_exact = cos(Q*r) * sin(pi*t)\n",
    "coeff_f = (Q/r * sin(Q*r) + (Q**2) * cos(Q*r)) * sin(pi*t) + pi * cos(Q*r) * cos(pi*t)\n",
    "u_exact_at_t = lambda t: cos(Q*r_at_t(t)) * sin(pi*t)\n",
    "u_init = u_exact_at_t(0.)"
   ]
  },
  {
   "cell_type": "markdown",
   "metadata": {
    "slideshow": {
     "slide_type": "subslide"
    }
   },
   "source": [
    "### A View on the time-dependent level set function"
   ]
  },
  {
   "cell_type": "code",
   "execution_count": null,
   "metadata": {},
   "outputs": [],
   "source": [
    "coef_told.Set(0); coef_delta_t.Set(1)\n",
    "TimeSlider_Draw(levelset,mesh,autoscale=False,min=-0.2,max=0.2,deformation=True)"
   ]
  },
  {
   "cell_type": "code",
   "execution_count": null,
   "metadata": {
    "scrolled": false
   },
   "outputs": [],
   "source": [
    "TimeSlider_DrawDC(levelset,u_exact,0,mesh)"
   ]
  },
  {
   "cell_type": "markdown",
   "metadata": {
    "slideshow": {
     "slide_type": "slide"
    }
   },
   "source": [
    "### Discretization parameters (orders)"
   ]
  },
  {
   "cell_type": "code",
   "execution_count": null,
   "metadata": {
    "slideshow": {
     "slide_type": "-"
    }
   },
   "outputs": [],
   "source": [
    "# polynomial order in time\n",
    "k_t = 1\n",
    "# polynomial order in space\n",
    "k_s = 1\n",
    "# polynomial order in time for level set approximation\n",
    "lset_order_time = 1"
   ]
  },
  {
   "cell_type": "markdown",
   "metadata": {
    "slideshow": {
     "slide_type": "subslide"
    }
   },
   "source": [
    "## Space-Time finite elements\n",
    "\n",
    "* For the construction of a space-time `FESpace` we can combine any spatial `FESpace` with a scalar `FiniteElement` in a tensor-product fashion.\n",
    "* Here, we use a nodal `FiniteElement` to simplify the extraction of spatial functions at fixed times."
   ]
  },
  {
   "cell_type": "code",
   "execution_count": null,
   "metadata": {
    "slideshow": {
     "slide_type": "-"
    }
   },
   "outputs": [],
   "source": [
    "# spatial FESpace for solution\n",
    "fes1 = H1(mesh, order=k_s)\n",
    "# time finite element (nodal!)\n",
    "tfe = ScalarTimeFE(k_t) \n",
    "# space-time finite element space\n",
    "st_fes = SpaceTimeFESpace(fes1,tfe, flags = {\"dgjumps\": True})"
   ]
  },
  {
   "cell_type": "markdown",
   "metadata": {
    "slideshow": {
     "slide_type": "slide"
    }
   },
   "source": [
    "## Space-time geometry description\n",
    "For the level set description of the geometry we use a space-time description on every time slab.\n",
    " * `CreateTimeRestrictedGF` generates a *spatial* GridFunction corresponding to the spatial `FESpace`"
   ]
  },
  {
   "cell_type": "code",
   "execution_count": null,
   "metadata": {
    "slideshow": {
     "slide_type": "-"
    }
   },
   "outputs": [],
   "source": [
    "lset_p1 = GridFunction(st_fes)\n",
    "lset_top = CreateTimeRestrictedGF(lset_p1,1.0)\n",
    "lset_bottom = CreateTimeRestrictedGF(lset_p1,0.0)"
   ]
  },
  {
   "cell_type": "markdown",
   "metadata": {
    "slideshow": {
     "slide_type": "subslide"
    }
   },
   "source": [
    "The following dictionaries correspond to the following integration domains:\n",
    "* $Q_n$ : `lset_neg` (depends on space-time GridFunction `lset_p1`)\n",
    "* $\\Omega(t_n)$ : `lset_top` (depends on spatial GridFunction `lset_top`)\n",
    "* $\\Omega(t_{n-1})$ : `lset_bottom` (depends on spatial GridFunction `lset_bottom`)\n",
    "        "
   ]
  },
  {
   "cell_type": "code",
   "execution_count": null,
   "metadata": {
    "slideshow": {
     "slide_type": "-"
    }
   },
   "outputs": [],
   "source": [
    "lset_neg = { \"levelset\" : lset_p1, \"domain_type\" : NEG}\n",
    "lset_neg_bottom = { \"levelset\" : lset_bottom, \"domain_type\" : NEG}\n",
    "lset_neg_top = { \"levelset\" : lset_top, \"domain_type\" : NEG}"
   ]
  },
  {
   "cell_type": "markdown",
   "metadata": {
    "slideshow": {
     "slide_type": "subslide"
    }
   },
   "source": [
    "### Space-Time version of the `CutInfo` class\n",
    "The `CutInfo` class also works for space-time geometries. Its initialization is trivial:"
   ]
  },
  {
   "cell_type": "code",
   "execution_count": null,
   "metadata": {
    "slideshow": {
     "slide_type": "-"
    }
   },
   "outputs": [],
   "source": [
    "ci = CutInfo(mesh,time_order=0)"
   ]
  },
  {
   "cell_type": "markdown",
   "metadata": {
    "slideshow": {
     "slide_type": "fragment"
    }
   },
   "source": [
    "To Update the slab geometry later on we do the following:"
   ]
  },
  {
   "cell_type": "code",
   "execution_count": null,
   "metadata": {
    "slideshow": {
     "slide_type": "-"
    }
   },
   "outputs": [],
   "source": [
    "def UpdateTimeSlabGeometry():\n",
    "    SpaceTimeInterpolateToP1(levelset,tref,lset_p1)\n",
    "    RestrictGFInTime(spacetime_gf=lset_p1,reference_time=0.0,space_gf=lset_bottom)\n",
    "    RestrictGFInTime(spacetime_gf=lset_p1,reference_time=1.0,space_gf=lset_top)\n",
    "\n",
    "    # update markers in (space-time) mesh\n",
    "    ci.Update(lset_p1,time_order=0)    "
   ]
  },
  {
   "cell_type": "markdown",
   "metadata": {
    "slideshow": {
     "slide_type": "-"
    }
   },
   "source": [
    "Notice:\n",
    "  * `coef_told`,`told`,`delta_t` are used to work with a variable time inside a time slab"
   ]
  },
  {
   "cell_type": "markdown",
   "metadata": {
    "slideshow": {
     "slide_type": "subslide"
    }
   },
   "source": [
    "### Space-Time P1(in-space)-interpolation of the level set function:"
   ]
  },
  {
   "cell_type": "code",
   "execution_count": null,
   "metadata": {
    "slideshow": {
     "slide_type": "-"
    }
   },
   "outputs": [],
   "source": [
    "coef_told.Set(0); coef_delta_t.Set(0.1)\n",
    "SpaceTimeInterpolateToP1(levelset,tref,lset_p1)"
   ]
  },
  {
   "cell_type": "code",
   "execution_count": null,
   "metadata": {
    "scrolled": false
   },
   "outputs": [],
   "source": [
    "TimeSlider_Draw(lset_p1,mesh,\"lsetp1\",min=0,max=0,autoscale=False,deformation=True); "
   ]
  },
  {
   "cell_type": "markdown",
   "metadata": {
    "slideshow": {
     "slide_type": "subslide"
    }
   },
   "source": [
    "### Solution GridFunction"
   ]
  },
  {
   "cell_type": "code",
   "execution_count": null,
   "metadata": {
    "slideshow": {
     "slide_type": "-"
    }
   },
   "outputs": [],
   "source": [
    "gfu = GridFunction(st_fes)\n",
    "u_last = CreateTimeRestrictedGF(gfu,0)"
   ]
  },
  {
   "cell_type": "markdown",
   "metadata": {
    "slideshow": {
     "slide_type": "subslide"
    }
   },
   "source": [
    "### Collection of integrator types\n",
    "The arising integrals will be categorized:"
   ]
  },
  {
   "cell_type": "code",
   "execution_count": null,
   "metadata": {
    "slideshow": {
     "slide_type": "-"
    }
   },
   "outputs": [],
   "source": [
    "hasneg_integrators_a = []\n",
    "hasneg_integrators_f = []\n",
    "patch_integrators_a = []"
   ]
  },
  {
   "cell_type": "markdown",
   "metadata": {
    "slideshow": {
     "slide_type": "slide"
    }
   },
   "source": [
    "## Variational formulation\n",
    "\n",
    "Now we would like to derive a suitable variational formulation on the time slabs $Q^{n}$. \n",
    "\n",
    "We start by multiplying the equation  \n",
    "\\begin{equation*}\n",
    "\\partial_{t} u- \\alpha \\Delta{u} + w \\cdot \\nabla{u} = f \\quad  in \\quad \\Omega(t),   \\qquad  t \\in [0,T] \n",
    "\\end{equation*}\n",
    "by a test function $v$ and perform integration by parts. "
   ]
  },
  {
   "cell_type": "markdown",
   "metadata": {
    "slideshow": {
     "slide_type": "-"
    }
   },
   "source": [
    "Due to homogeneous Neumann boundary conditions this leads to: \n",
    "\\begin{equation*}\n",
    "(\\partial_{t} u, v)_{Q^n} + \\alpha (\\nabla{u},\\nabla{v})_{Q^n}   + (w \\cdot \\nabla{u},v)_{Q^n} = (f,v)_{Q^n}.\n",
    "\\end{equation*}"
   ]
  },
  {
   "cell_type": "markdown",
   "metadata": {
    "slideshow": {
     "slide_type": "subslide"
    }
   },
   "source": [
    "## Upwind DG in time\n",
    "The operator $(\\nabla,\\partial_{t})$ acts as a convective term in the space-time domain. We can integrate the whole term by parts and obtain:\n",
    " \n",
    "\\begin{alignat*}{2}\\begin{aligned} & (\\partial_{t}u,  v)_{Q^{n}} + ( w \\cdot \\nabla{u}, v)_{Q^{n}} \\\\\n",
    " &= -(u, \\partial_{t} v)_{Q^{n}} + (u_{-}^{n},v_{-}^{n})_{\\Omega(t_{n})} - (u_{-}^{n-1},v_{+}^{n-1})_{\\Omega(t_{n-1})} - (u, \\nabla{v} \\cdot w)_{Q^{n}}.           \\\\  \\end{aligned}  \\end{alignat*} \n",
    " \n",
    " Here it was used that the velocity of the boundary $\\partial \\Omega(t)$ in normal direction coincides with $w \\cdot n$ where $n$ is the normal of $\\Omega(t)$.\n",
    " <center> ![alt](graphics/limits-time-slab.png) </center>"
   ]
  },
  {
   "cell_type": "markdown",
   "metadata": {
    "slideshow": {
     "slide_type": "subslide"
    }
   },
   "source": [
    "## Ghost penalty stabilization\n",
    "To gain sufficient control on all space-time d.o.f.s we add a so-called *Ghost-Penalty* stabilization \n",
    "as in [1]. Adding the stabilization, the variational formulation on the time slabs becomes:\n",
    " \n",
    "\\begin{alignat*}{3}\n",
    "\\begin{aligned}\n",
    " &-(u, \\partial_{t} v)_{Q^{n}} + \\alpha (\\nabla{u},\\nabla{v})_{Q^{n}} - (u, \\nabla{v} \\cdot w)_{Q^{n}}  + (u^{n}_{-},v^{n}_{-})_{\\Omega^{n}} + s_h(u,v) \\\\\n",
    " &= (f,v)_{Q^{n}}  +  (u^{n-1}_{-},v^{n-1}_{+})_{\\Omega^{n-1}}          \\\\\n",
    "\\end{aligned}  \n",
    "\\end{alignat*}\n",
    "$$\n",
    "\\text{with} \\qquad\\qquad\n",
    "s_h(u,v) =   \\sum\\limits_{F \\in F_{h}}{ \\gamma_{j} \\int\\limits_{t_{n-1}}^{t_{n}}{   \\int\\limits_{\\omega_F}{  h^{-2} [\\![ u]\\!] \\, [\\![ v]\\!]         \\, d\\mathbf{x} \\, dt.  } }\t\t}                 \\\\\n",
    "$$\n",
    "where $[\\![u]\\!]$ is the difference of $u|_{T_1}$ and $u|_{T_2}$ (interpreted as polynomials $\\in \\mathbb{R}^d$).\n",
    "<center>![alt](graphics/macro-element.png)</center>"
   ]
  },
  {
   "cell_type": "markdown",
   "metadata": {
    "slideshow": {
     "slide_type": "subslide"
    }
   },
   "source": [
    "### Implementation of space-time integrals"
   ]
  },
  {
   "cell_type": "code",
   "execution_count": null,
   "metadata": {
    "slideshow": {
     "slide_type": "-"
    }
   },
   "outputs": [],
   "source": [
    "def SpaceTimeNegBFI(form):\n",
    "    return SymbolicBFI(levelset_domain = lset_neg, form = form.Compile(), time_order=2*k_t)\n",
    "u,v = st_fes.TnT()"
   ]
  },
  {
   "cell_type": "markdown",
   "metadata": {
    "slideshow": {
     "slide_type": "fragment"
    }
   },
   "source": [
    "#### Transformation from reference interval to $(t_{n-1},t_n)$:\n",
    "$$\n",
    "(x,\\hat{t}) \\to (x,t_{n-1} + \\hat{t} \\Delta t), \\qquad v(x,t) = \\hat{v}(x,\\hat{t}), \\quad u(x,t) = \\hat{u}(x,\\hat{t})\n",
    "$$"
   ]
  },
  {
   "cell_type": "markdown",
   "metadata": {
    "slideshow": {
     "slide_type": "fragment"
    }
   },
   "source": [
    "First integral:\n",
    "$$\n",
    "-(u, \\partial_{t} v)_{Q^{n}} \\qquad = \\qquad -(\\hat{u}, \\partial_{t} \\hat v)_{\\hat Q^{n}}\n",
    "$$"
   ]
  },
  {
   "cell_type": "code",
   "execution_count": null,
   "metadata": {
    "slideshow": {
     "slide_type": "-"
    }
   },
   "outputs": [],
   "source": [
    "hasneg_integrators_a.append(SpaceTimeNegBFI(form = -u*dt(v)))"
   ]
  },
  {
   "cell_type": "markdown",
   "metadata": {
    "slideshow": {
     "slide_type": "subslide"
    }
   },
   "source": [
    "Second integral:\n",
    "$$- (u, \\nabla{v} \\cdot w)_{Q^{n}}  \\qquad = \\qquad - \\Delta t (\\hat{u}, \\nabla \\hat v \\cdot w)_{\\hat Q^{n}} $$"
   ]
  },
  {
   "cell_type": "code",
   "execution_count": null,
   "metadata": {
    "slideshow": {
     "slide_type": "-"
    }
   },
   "outputs": [],
   "source": [
    "hasneg_integrators_a.append(SpaceTimeNegBFI(form = -coef_delta_t*u*InnerProduct(w,grad(v))))"
   ]
  },
  {
   "cell_type": "markdown",
   "metadata": {
    "slideshow": {
     "slide_type": "fragment"
    }
   },
   "source": [
    "Third integral:\n",
    "$$\n",
    "\\alpha (\\nabla{u},\\nabla{v})_{Q^{n}}  \\qquad = \\qquad \\alpha \\Delta t (\\nabla \\hat{u}, \\nabla \\hat v)_{\\hat Q^{n}} \n",
    "$$"
   ]
  },
  {
   "cell_type": "code",
   "execution_count": null,
   "metadata": {
    "slideshow": {
     "slide_type": "-"
    }
   },
   "outputs": [],
   "source": [
    "hasneg_integrators_a.append(SpaceTimeNegBFI(form = coef_delta_t*alpha*grad(u)*grad(v)))"
   ]
  },
  {
   "cell_type": "markdown",
   "metadata": {
    "slideshow": {
     "slide_type": "fragment"
    }
   },
   "source": [
    "Fourth integral:\n",
    "$$(u^{n}_{-},v^{n}_{-})_{\\Omega^{n}}, \\qquad u^{n}_- = \\hat u(\\cdot,\\hat t = 1), \\qquad v^{n}_- = \\hat v(\\cdot,\\hat t = 1)$$\n",
    "\n"
   ]
  },
  {
   "cell_type": "code",
   "execution_count": null,
   "metadata": {
    "slideshow": {
     "slide_type": "-"
    }
   },
   "outputs": [],
   "source": [
    "hasneg_integrators_a.append(SymbolicBFI(levelset_domain = lset_neg_top, form = fix_t(u,1)*fix_t(v,1)))"
   ]
  },
  {
   "cell_type": "markdown",
   "metadata": {
    "slideshow": {
     "slide_type": "subslide"
    }
   },
   "source": [
    "Fifth integral:\n",
    "$$ s_h(u,v) =   \\sum\\limits_{F \\in F_{h}}{ \\gamma_{j} \\int\\limits_{t_{n-1}}^{t_{n}}{   \\int\\limits_{\\omega_F}{  h^{-2} [\\![ u]\\!] \\, [\\![ v]\\!]         \\, d\\mathbf{x} \\, dt.  }}} =   \\sum\\limits_{F \\in F_{h}}{ \\Delta t \\ \\gamma_{j} \\int\\limits_{t_{n-1}}^{t_{n}}{   \\int\\limits_{\\omega_F}{  h^{-2} [\\![ \\hat u]\\!] \\, [\\![ \\hat v]\\!]         \\, d\\mathbf{x} \\, dt.  }}}  $$"
   ]
  },
  {
   "cell_type": "code",
   "execution_count": null,
   "metadata": {
    "slideshow": {
     "slide_type": "-"
    }
   },
   "outputs": [],
   "source": [
    "patch_integrators_a.append(SymbolicFacetPatchBFI(form = coef_delta_t*0.05*h**(-2)*(u-u.Other())*(v-v.Other()),\n",
    "                                                 skeleton=False, time_order=2*k_t)) "
   ]
  },
  {
   "cell_type": "markdown",
   "metadata": {
    "slideshow": {
     "slide_type": "fragment"
    }
   },
   "source": [
    "Sixth integral:\n",
    "$$ (f,v)_{Q^{n}} \\qquad = \\qquad \\Delta t (f, \\hat v)_{\\hat Q^{n}} \n",
    "$$"
   ]
  },
  {
   "cell_type": "code",
   "execution_count": null,
   "metadata": {
    "slideshow": {
     "slide_type": "-"
    }
   },
   "outputs": [],
   "source": [
    "hasneg_integrators_f.append(SymbolicLFI(levelset_domain = lset_neg, form = coef_delta_t*coeff_f*v, time_order=2*k_t)) "
   ]
  },
  {
   "cell_type": "markdown",
   "metadata": {
    "slideshow": {
     "slide_type": "fragment"
    }
   },
   "source": [
    "Seventh integral:\n",
    "$$ (u^{n-1}_{-},v^{n-1}_{+})_{\\Omega^{n-1}}, \\qquad v^{n}_+ = \\hat v(\\cdot,\\hat t = 0)$$"
   ]
  },
  {
   "cell_type": "code",
   "execution_count": null,
   "metadata": {
    "slideshow": {
     "slide_type": "-"
    }
   },
   "outputs": [],
   "source": [
    "hasneg_integrators_f.append(SymbolicLFI(levelset_domain = lset_neg_bottom,form = u_last*fix_t(v,0)))"
   ]
  },
  {
   "cell_type": "markdown",
   "metadata": {
    "slideshow": {
     "slide_type": "subslide"
    }
   },
   "source": [
    "### Put integrals into bilinear and linear forms"
   ]
  },
  {
   "cell_type": "code",
   "execution_count": null,
   "metadata": {
    "slideshow": {
     "slide_type": "-"
    }
   },
   "outputs": [],
   "source": [
    "a = BilinearForm(st_fes,check_unused=False,symmetric=False)\n",
    "for integrator in hasneg_integrators_a + patch_integrators_a:\n",
    "    a += integrator\n",
    "\n",
    "f = LinearForm(st_fes)\n",
    "\n",
    "for integrator in hasneg_integrators_f:\n",
    "    f += integrator"
   ]
  },
  {
   "cell_type": "markdown",
   "metadata": {
    "slideshow": {
     "slide_type": "subslide"
    }
   },
   "source": [
    "### To setup the linear systems in every time step we have to\n",
    "* Update the element markers (`CutInfo` does this on `Update`)\n",
    "* Update the facet markers\n",
    "* Re-Set the integration elements (`definedonelements`)\n",
    "* Re-Assemble the system"
   ]
  },
  {
   "cell_type": "code",
   "execution_count": null,
   "metadata": {
    "slideshow": {
     "slide_type": "-"
    }
   },
   "outputs": [],
   "source": [
    "def UpdateLinearSystems():\n",
    "    # re-compute the facets for stabilization:\n",
    "    ba_facets = GetFacetsWithNeighborTypes(mesh,a=ci.GetElementsOfType(HASNEG),\n",
    "                                                b=ci.GetElementsOfType(IF))\n",
    "\n",
    "    # re-set definedonelements-markers according to new markings:\n",
    "    for integrator in hasneg_integrators_a + hasneg_integrators_f:\n",
    "        integrator.SetDefinedOnElements(ci.GetElementsOfType(HASNEG))\n",
    "    for integrator in patch_integrators_a:\n",
    "        integrator.SetDefinedOnElements(ba_facets)\n",
    "\n",
    "    # assemble linear system\n",
    "    a.Assemble()\n",
    "    f.Assemble()\n"
   ]
  },
  {
   "cell_type": "markdown",
   "metadata": {
    "slideshow": {
     "slide_type": "subslide"
    }
   },
   "source": [
    "### To solve the linear systems in every time step\n",
    "* need to update the dof markers (`active_dofs`)\n",
    "* solve the linear system"
   ]
  },
  {
   "cell_type": "code",
   "execution_count": null,
   "metadata": {
    "slideshow": {
     "slide_type": "-"
    }
   },
   "outputs": [],
   "source": [
    "def SolveForTimeSlab():\n",
    "    # re-evaluate the \"active dofs\" in the space time slab\n",
    "    active_dofs = GetDofsOfElements(st_fes,ci.GetElementsOfType(HASNEG))\n",
    "    # solve linear system\n",
    "    inv = a.mat.Inverse(active_dofs,inverse=\"umfpack\")\n",
    "    gfu.vec.data =  inv * f.vec   "
   ]
  },
  {
   "cell_type": "markdown",
   "metadata": {
    "slideshow": {
     "slide_type": "subslide"
    }
   },
   "source": [
    "### At the end of every time step, we\n",
    "* store the solution at $t_n$ into a (purely) spatial `GridFunction` (to be used in next time step)\n",
    "* compute the error\n",
    "* update visualization"
   ]
  },
  {
   "cell_type": "code",
   "execution_count": null,
   "metadata": {
    "slideshow": {
     "slide_type": "-"
    }
   },
   "outputs": [],
   "source": [
    "def FinalizeStep(scene=None):\n",
    "    RestrictGFInTime(spacetime_gf=gfu,reference_time=1.0,space_gf=u_last)   \n",
    "    # compute error at end of time slab\n",
    "    l2error = sqrt(Integrate(lset_neg_top,(fix_t(u_exact,told)-u_last)**2,mesh))\n",
    "    # print time and error\n",
    "    print(\"\\rt = {0:10}, l2error = {1:20}\".format(told,l2error),end=\"\")\n",
    "    if scene:\n",
    "        scene.Redraw()"
   ]
  },
  {
   "cell_type": "markdown",
   "metadata": {
    "slideshow": {
     "slide_type": "slide"
    }
   },
   "source": [
    "### The final time loop"
   ]
  },
  {
   "cell_type": "code",
   "execution_count": null,
   "metadata": {
    "slideshow": {
     "slide_type": "-"
    }
   },
   "outputs": [],
   "source": [
    "tend = 1\n",
    "delta_t = tend/32\n",
    "coef_delta_t.Set(delta_t)\n",
    "tnew = 0\n",
    "told = 0"
   ]
  },
  {
   "cell_type": "code",
   "execution_count": null,
   "metadata": {},
   "outputs": [],
   "source": [
    "scene = DrawDC(lset_top,u_last,-2, mesh,\"u\", autoscale=False, min = -2, max = 1)"
   ]
  },
  {
   "cell_type": "code",
   "execution_count": null,
   "metadata": {
    "slideshow": {
     "slide_type": "-"
    }
   },
   "outputs": [],
   "source": [
    "u_last.Set(u_init) \n",
    "told = 0\n",
    "with TaskManager():\n",
    "    while tend - told > delta_t/2:\n",
    "        UpdateTimeSlabGeometry()\n",
    "        UpdateLinearSystems()\n",
    "        SolveForTimeSlab()       \n",
    "        told = told + delta_t\n",
    "        coef_told.Set(told)\n",
    "        FinalizeStep(scene)\n",
    "print(\"\")       "
   ]
  },
  {
   "cell_type": "markdown",
   "metadata": {
    "slideshow": {
     "slide_type": "subslide"
    }
   },
   "source": [
    "### Coarse resolution in time: 1 time step"
   ]
  },
  {
   "cell_type": "code",
   "execution_count": null,
   "metadata": {
    "slideshow": {
     "slide_type": "-"
    }
   },
   "outputs": [],
   "source": [
    "tend = 0.25\n",
    "delta_t = tend\n",
    "coef_delta_t.Set(delta_t)\n",
    "tnew = 0\n",
    "told = 0"
   ]
  },
  {
   "cell_type": "code",
   "execution_count": null,
   "metadata": {
    "slideshow": {
     "slide_type": "subslide"
    }
   },
   "outputs": [],
   "source": [
    "u_last.Set(u_init)\n",
    "told = 0\n",
    "with TaskManager():\n",
    "    while tend - told > delta_t/2:\n",
    "        UpdateTimeSlabGeometry()\n",
    "        UpdateLinearSystems()\n",
    "        SolveForTimeSlab()       \n",
    "        told = told + delta_t\n",
    "        coef_told.Set(told)\n",
    "        FinalizeStep(scene)\n",
    "        print(\"alias\")\n",
    "print(\"\")   \n",
    "coef_told.Set(told-delta_t)"
   ]
  },
  {
   "cell_type": "code",
   "execution_count": null,
   "metadata": {},
   "outputs": [],
   "source": [
    "TimeSlider_DrawDC(lset_p1,gfu,-2,mesh,min=-2,max=1,autoscale=False)"
   ]
  },
  {
   "cell_type": "markdown",
   "metadata": {
    "slideshow": {
     "slide_type": "subslide"
    }
   },
   "source": [
    "Play around suggestions:\n",
    "\n",
    "* use higher order in time (and a coarse grid)\n",
    "* use different level set evolutions\n",
    "* try higher order in space"
   ]
  }
 ],
 "metadata": {
  "kernelspec": {
   "display_name": "Python 3",
   "language": "python",
   "name": "python3"
  },
  "language_info": {
   "codemirror_mode": {
    "name": "ipython",
    "version": 3
   },
   "file_extension": ".py",
   "mimetype": "text/x-python",
   "name": "python",
   "nbconvert_exporter": "python",
   "pygments_lexer": "ipython3",
   "version": "3.9.1-final"
  },
  "toc": {
   "base_numbering": 1,
   "nav_menu": {},
   "number_sections": true,
   "sideBar": true,
   "skip_h1_title": false,
   "title_cell": "Table of Contents",
   "title_sidebar": "Contents",
   "toc_cell": false,
   "toc_position": {},
   "toc_section_display": true,
   "toc_window_display": false
  }
 },
 "nbformat": 4,
 "nbformat_minor": 2
}